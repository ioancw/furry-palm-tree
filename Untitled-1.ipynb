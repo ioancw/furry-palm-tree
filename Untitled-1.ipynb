{
 "cells": [
  {
   "cell_type": "code",
   "execution_count": null,
   "metadata": {
    "dotnet_interactive": {
     "language": "fsharp"
    },
    "vscode": {
     "languageId": "dotnet-interactive.fsharp"
    }
   },
   "outputs": [],
   "source": [
    "let fileName = @\"/Users/ioanwilliams/github/furry-palm-tree/words.txt\"\n",
    "let words = \n",
    "    fileName \n",
    "    |> File.ReadAllLines\n",
    "    |> Seq.filter (fun w -> w.Length = 5)"
   ]
  },
  {
   "cell_type": "code",
   "execution_count": null,
   "metadata": {
    "dotnet_interactive": {
     "language": "fsharp"
    },
    "vscode": {
     "languageId": "dotnet-interactive.fsharp"
    }
   },
   "outputs": [
    {
     "data": {
      "text/html": [
       "<table><thead><tr><th><i>index</i></th><th>value</th></tr></thead><tbody><tr><td>0</td><td><div class=\"dni-plaintext\">a</div></td></tr><tr><td>1</td><td><div class=\"dni-plaintext\">a</div></td></tr><tr><td>2</td><td><div class=\"dni-plaintext\">h</div></td></tr><tr><td>3</td><td><div class=\"dni-plaintext\">e</div></td></tr><tr><td>4</td><td><div class=\"dni-plaintext\">d</div></td></tr><tr><td>5</td><td><div class=\"dni-plaintext\">a</div></td></tr><tr><td>6</td><td><div class=\"dni-plaintext\">a</div></td></tr><tr><td>7</td><td><div class=\"dni-plaintext\">l</div></td></tr><tr><td>8</td><td><div class=\"dni-plaintext\">i</div></td></tr><tr><td>9</td><td><div class=\"dni-plaintext\">i</div></td></tr><tr><td>10</td><td><div class=\"dni-plaintext\">a</div></td></tr><tr><td>11</td><td><div class=\"dni-plaintext\">b</div></td></tr><tr><td>12</td><td><div class=\"dni-plaintext\">a</div></td></tr><tr><td>13</td><td><div class=\"dni-plaintext\">c</div></td></tr><tr><td>14</td><td><div class=\"dni-plaintext\">a</div></td></tr><tr><td>15</td><td><div class=\"dni-plaintext\">a</div></td></tr><tr><td>16</td><td><div class=\"dni-plaintext\">b</div></td></tr><tr><td>17</td><td><div class=\"dni-plaintext\">a</div></td></tr><tr><td>18</td><td><div class=\"dni-plaintext\">c</div></td></tr><tr><td>19</td><td><div class=\"dni-plaintext\">i</div></td></tr><tr><td colspan=\"2\"><i>... (more)</i></td></tr></tbody></table>"
      ]
     },
     "metadata": {},
     "output_type": "display_data"
    }
   ],
   "source": [
    "words |> Seq.collect id"
   ]
  },
  {
   "cell_type": "code",
   "execution_count": null,
   "metadata": {
    "dotnet_interactive": {
     "language": "fsharp"
    },
    "vscode": {
     "languageId": "dotnet-interactive.fsharp"
    }
   },
   "outputs": [],
   "source": [
    "open System.IO"
   ]
  },
  {
   "cell_type": "code",
   "execution_count": null,
   "metadata": {
    "dotnet_interactive": {
     "language": "fsharp"
    },
    "vscode": {
     "languageId": "dotnet-interactive.fsharp"
    }
   },
   "outputs": [],
   "source": []
  }
 ],
 "metadata": {
  "kernelspec": {
   "display_name": ".NET (F#)",
   "language": "F#",
   "name": ".net-fsharp"
  },
  "language_info": {
   "name": "F#"
  }
 },
 "nbformat": 4,
 "nbformat_minor": 2
}
