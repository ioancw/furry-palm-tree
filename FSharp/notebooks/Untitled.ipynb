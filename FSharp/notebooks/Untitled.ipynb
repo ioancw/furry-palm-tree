{
 "cells": [
  {
   "cell_type": "markdown",
   "metadata": {},
   "source": [
    "First F# notebook using try .net style jupyter notebooks."
   ]
  },
  {
   "cell_type": "markdown",
   "metadata": {},
   "source": [
    "You can load packages into a .Net notebook from Nuget using the following syntax.\n",
    "\n",
    "    #r \"nuget:<package name>[,<version=package version>]\""
   ]
  },
  {
   "cell_type": "code",
   "execution_count": 4,
   "metadata": {},
   "outputs": [],
   "source": [
    "#r \"nuget:FSharp.Data\""
   ]
  },
  {
   "cell_type": "code",
   "execution_count": 5,
   "metadata": {},
   "outputs": [
    {
     "data": {
      "text/html": [
       "Installing package FSharp.Data.done!"
      ]
     },
     "metadata": {},
     "output_type": "display_data"
    },
    {
     "name": "stdout",
     "output_type": "stream",
     "text": [
      "=============== S T A R T ==========================================\n",
      ">>>> /Users/ioanwilliams/.nuget/packages/fsharp.data/3.3.2/typeproviders/fsharp41/netstandard2.0/FSharp.Data.DesignTime.dll\n",
      ">>>> /Users/ioanwilliams/.nuget/packages/fsharp.data/3.3.2/lib/netstandard2.0/FSharp.Data.DesignTime.dll\n",
      "Using: /Users/ioanwilliams/.nuget/packages/fsharp.data/3.3.2/typeproviders/fsharp41/netstandard2.0/FSharp.Data.DesignTime.dll\n"
     ]
    }
   ],
   "source": [
    "open FSharp.Data"
   ]
  },
  {
   "cell_type": "code",
   "execution_count": 6,
   "metadata": {},
   "outputs": [],
   "source": [
    "[<Literal>]\n",
    "let url = \"https://en.wikipedia.org/wiki/2017_Formula_One_World_Championship\""
   ]
  },
  {
   "cell_type": "code",
   "execution_count": 7,
   "metadata": {},
   "outputs": [],
   "source": [
    "type F1_2017 = HtmlProvider<url>"
   ]
  },
  {
   "cell_type": "code",
   "execution_count": 8,
   "metadata": {},
   "outputs": [],
   "source": [
    "let f1Calendar = F1_2017.Load(url).Tables.``Season calendar``"
   ]
  },
  {
   "cell_type": "code",
   "execution_count": 9,
   "metadata": {},
   "outputs": [
    {
     "data": {
      "text/html": [
       "<table><thead><tr><th><i>index</i></th><th>Item1</th><th>Item2</th></tr></thead><tbody><tr><td>0</td><td>Melbourne Grand Prix Circuit, Melbourne</td><td>26 March</td></tr><tr><td>1</td><td>Shanghai International Circuit, Shanghai</td><td>9 April</td></tr><tr><td>2</td><td>Bahrain International Circuit, Sakhir</td><td>16 April</td></tr><tr><td>3</td><td>Sochi Autodrom, Sochi</td><td>30 April</td></tr><tr><td>4</td><td>Circuit de Barcelona-Catalunya, Barcelona</td><td>14 May</td></tr><tr><td>5</td><td>Circuit de Monaco, Monte Carlo</td><td>28 May</td></tr><tr><td>6</td><td>Circuit Gilles Villeneuve, Montreal</td><td>11 June</td></tr><tr><td>7</td><td>Baku City Circuit, Baku</td><td>25 June</td></tr><tr><td>8</td><td>Red Bull Ring, Spielberg</td><td>9 July</td></tr><tr><td>9</td><td>Silverstone Circuit, Silverstone</td><td>16 July</td></tr><tr><td>10</td><td>Hungaroring, Budapest</td><td>30 July</td></tr><tr><td>11</td><td>Circuit de Spa-Francorchamps, Stavelot</td><td>27 August</td></tr><tr><td>12</td><td>Autodromo Nazionale Monza, Monza</td><td>3 September</td></tr><tr><td>13</td><td>Marina Bay Street Circuit, Singapore</td><td>17 September</td></tr><tr><td>14</td><td>Sepang International Circuit, Kuala Lumpur</td><td>1 October</td></tr><tr><td>15</td><td>Suzuka International Racing Course, Suzuka</td><td>8 October</td></tr><tr><td>16</td><td>Circuit of the Americas, Austin, Texas</td><td>22 October</td></tr><tr><td>17</td><td>Aut&#243;dromo Hermanos Rodr&#237;guez, Mexico City</td><td>29 October</td></tr><tr><td>18</td><td>Aut&#243;dromo Jos&#233; Carlos Pace, S&#227;o Paulo</td><td>12 November</td></tr><tr><td>19</td><td>Yas Marina Circuit, Abu Dhabi</td><td>26 November</td></tr><tr><td>20</td><td>Source:[74]</td><td>Source:[74]</td></tr></tbody></table>"
      ]
     },
     "execution_count": 9,
     "metadata": {},
     "output_type": "execute_result"
    }
   ],
   "source": [
    "f1Calendar.Rows\n",
    "|> Seq.map (fun x-> x.Circuit, x.Date)"
   ]
  },
  {
   "cell_type": "code",
   "execution_count": null,
   "metadata": {},
   "outputs": [],
   "source": []
  }
 ],
 "metadata": {
  "kernelspec": {
   "display_name": ".NET (F#)",
   "language": "F#",
   "name": ".net-fsharp"
  },
  "language_info": {
   "file_extension": ".fs",
   "mimetype": "text/x-fsharp",
   "name": "C#",
   "pygments_lexer": "fsharp",
   "version": "4.5"
  }
 },
 "nbformat": 4,
 "nbformat_minor": 4
}
