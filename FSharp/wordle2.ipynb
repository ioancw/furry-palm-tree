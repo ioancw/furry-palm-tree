{
 "cells": [
  {
   "attachments": {},
   "cell_type": "markdown",
   "metadata": {},
   "source": [
    "# F# Advent Calendar 2022\n",
    "\n",
    "This is my contrinution to the F# Advent Calendar 2022, which is a relatively short post on using F# to help solve Wordle.\n",
    "For those who've been living under a rock this year, Wordle is a word guessing game created by Josh Wardle, and now owned by the NY Times.\n",
    "\n",
    "The game involves iteratively attempting to guess a secret word, where each guess is 'scored' against this secret word. If the guess word's letter is in the correct position in the secret word, then that letter is scored as Green. Iff it's in the word but not in the correct position then Yellow, and grey if it's not in contained in the word.  \n",
    "\n",
    "You continue to guess, until the game is won - where each letter is scored Green - or you run out out attempts.  You only get six attempts to guess the word.\n",
    "\n",
    "The first thing to do, is some basic analysis on five letter words, to see if there are any patterns.  \n",
    "\n",
    "I found a dictionary of words on the internet, so will use this in order to create a collection of five letter words.  For those of you familiar with wordle, you'll know that the way Josh structured the game, is that that the worlde is selected from a set of 2315 words, but each word you guess is checked to ensure that it exists in a much larger population of words (approx 11,000).  This may have changed somewhat since the NY Times bought wordle from Josh, and also since they now use a dedicated word setter, rather than using Josh's original list. You can scrate these lists from the JavaScript source code, however in order to not spoil things, I will use my internet downloaded set of words. The stats don't change much between the wordle set of words and the internet set of words."
   ]
  },
  {
   "attachments": {},
   "cell_type": "markdown",
   "metadata": {},
   "source": [
    "### Part 1 - Analysing five letter words\n",
    "First of all some useful functions in order to load the letters from the file."
   ]
  },
  {
   "cell_type": "code",
   "execution_count": 2,
   "metadata": {
    "dotnet_interactive": {
     "language": "fsharp"
    },
    "vscode": {
     "languageId": "fsharp"
    }
   },
   "outputs": [],
   "source": [
    "open System.IO\n",
    "\n",
    "let rec listToString l =\n",
    "    match l with\n",
    "    | [] -> \"\"\n",
    "    | head :: tail -> head.ToString() + listToString tail\n",
    "\n",
    "let sortString s =\n",
    "    s |> Seq.sort |> Seq.toList |> listToString\n",
    "\n",
    "let fiveLetterWords fileName = \n",
    "    fileName \n",
    "    |> File.ReadAllLines \n",
    "    |> Seq.filter (fun w -> w.Length = 5)"
   ]
  },
  {
   "cell_type": "code",
   "execution_count": 44,
   "metadata": {
    "dotnet_interactive": {
     "language": "fsharp"
    },
    "vscode": {
     "languageId": "fsharp"
    }
   },
   "outputs": [
    {
     "data": {
      "text/html": [
       "<div class=\"dni-plaintext\">8254</div>"
      ]
     },
     "execution_count": 44,
     "metadata": {},
     "output_type": "execute_result"
    }
   ],
   "source": [
    "let words = fiveLetterWords @\"../words.txt\""
   ]
  },
  {
   "cell_type": "code",
   "execution_count": 4,
   "metadata": {
    "dotnet_interactive": {
     "language": "fsharp"
    },
    "vscode": {
     "languageId": "fsharp"
    }
   },
   "outputs": [
    {
     "data": {
      "text/html": [
       "<table><thead><tr><th><i>index</i></th><th>Letter</th><th>Frequency</th></tr></thead><tbody><tr><td>0</td><td><div class=\"dni-plaintext\">s</div></td><td><div class=\"dni-plaintext\">4331</div></td></tr><tr><td>1</td><td><div class=\"dni-plaintext\">e</div></td><td><div class=\"dni-plaintext\">4303</div></td></tr><tr><td>2</td><td><div class=\"dni-plaintext\">a</div></td><td><div class=\"dni-plaintext\">3665</div></td></tr><tr><td>3</td><td><div class=\"dni-plaintext\">r</div></td><td><div class=\"dni-plaintext\">2733</div></td></tr><tr><td>4</td><td><div class=\"dni-plaintext\">o</div></td><td><div class=\"dni-plaintext\">2712</div></td></tr><tr><td>5</td><td><div class=\"dni-plaintext\">i</div></td><td><div class=\"dni-plaintext\">2428</div></td></tr><tr><td>6</td><td><div class=\"dni-plaintext\">l</div></td><td><div class=\"dni-plaintext\">2293</div></td></tr><tr><td>7</td><td><div class=\"dni-plaintext\">t</div></td><td><div class=\"dni-plaintext\">2154</div></td></tr><tr><td>8</td><td><div class=\"dni-plaintext\">n</div></td><td><div class=\"dni-plaintext\">1867</div></td></tr><tr><td>9</td><td><div class=\"dni-plaintext\">d</div></td><td><div class=\"dni-plaintext\">1611</div></td></tr></tbody></table>"
      ]
     },
     "execution_count": 4,
     "metadata": {},
     "output_type": "execute_result"
    }
   ],
   "source": [
    "type Frequency = {Letter: char; Frequency: int}\n",
    "\n",
    "let frequencies = \n",
    "    words \n",
    "    |> Seq.collect id \n",
    "    |> Seq.countBy id \n",
    "    |> Seq.sortByDescending snd\n",
    "\n",
    "let frequenciesMap =\n",
    "    frequencies\n",
    "    |> Map.ofSeq\n",
    "\n",
    "frequencies |> Seq.take 10 |> Seq.map (fun (l, f) -> {Letter =  l; Frequency = f})\n"
   ]
  },
  {
   "attachments": {},
   "cell_type": "markdown",
   "metadata": {},
   "source": [
    "Unsurprisingly, the letter e features near the top of the list, although I didn't expect the letter s to be so frequent.\n",
    "\n",
    "Let's now look at individual letter frequencies in each position, i.e. what's the most common first, last letter etc.\n"
   ]
  },
  {
   "cell_type": "code",
   "execution_count": 52,
   "metadata": {
    "vscode": {
     "languageId": "fsharp"
    }
   },
   "outputs": [
    {
     "data": {
      "text/html": [
       "<table><thead><tr><th><i>index</i></th><th>Item1</th><th>Item2</th></tr></thead><tbody><tr><td>0</td><td><div class=\"dni-plaintext\">0</div></td><td><div class=\"dni-plaintext\">[ ( s, 1023 ) ]</div></td></tr><tr><td>1</td><td><div class=\"dni-plaintext\">1</div></td><td><div class=\"dni-plaintext\">[ ( a, 1408 ) ]</div></td></tr><tr><td>2</td><td><div class=\"dni-plaintext\">2</div></td><td><div class=\"dni-plaintext\">[ ( a, 823 ) ]</div></td></tr><tr><td>3</td><td><div class=\"dni-plaintext\">3</div></td><td><div class=\"dni-plaintext\">[ ( e, 1656 ) ]</div></td></tr><tr><td>4</td><td><div class=\"dni-plaintext\">4</div></td><td><div class=\"dni-plaintext\">[ ( s, 2585 ) ]</div></td></tr></tbody></table>"
      ]
     },
     "execution_count": 52,
     "metadata": {},
     "output_type": "execute_result"
    }
   ],
   "source": [
    "let letterPositionFrequency (words: string seq) = \n",
    "    words\n",
    "    |> Seq.map (fun w -> w.ToCharArray() |> Array.indexed)\n",
    "    |> Seq.collect id\n",
    "    |> Seq.groupBy fst\n",
    "    |> Seq.map (fun (p, cs) -> p, cs |> Seq.countBy snd |> Seq.sortByDescending snd)\n",
    "\n",
    "let mostFrequentLetterPosition words = \n",
    "    words \n",
    "    |> letterPositionFrequency\n",
    "    |> Seq.map (fun (p, lfs) -> p, lfs |> Seq.take 1)\n",
    "\n",
    "words |> mostFrequentLetterPosition"
   ]
  },
  {
   "attachments": {},
   "cell_type": "markdown",
   "metadata": {},
   "source": [
    "You can see that the post frequent letters in each position are: S, A, A, E, S, which isn't that surprising.\n",
    "Although this is using a far larger set of 5 letter words that the one used in wordle.\n",
    "\n",
    "So let's try this with the actual wordle dataset (this was take last April, so may well have changed now)"
   ]
  },
  {
   "cell_type": "code",
   "execution_count": 50,
   "metadata": {
    "vscode": {
     "languageId": "fsharp"
    }
   },
   "outputs": [
    {
     "data": {
      "text/html": [
       "<div class=\"dni-plaintext\">2315</div>"
      ]
     },
     "execution_count": 50,
     "metadata": {},
     "output_type": "execute_result"
    }
   ],
   "source": [
    "let wordleWords = File.ReadAllLines @\"..\\Python\\wordle_words.txt\"\n",
    "wordleWords |> Seq.length"
   ]
  },
  {
   "cell_type": "code",
   "execution_count": 53,
   "metadata": {
    "vscode": {
     "languageId": "fsharp"
    }
   },
   "outputs": [
    {
     "data": {
      "text/html": [
       "<table><thead><tr><th><i>index</i></th><th>Item1</th><th>Item2</th></tr></thead><tbody><tr><td>0</td><td><div class=\"dni-plaintext\">0</div></td><td><div class=\"dni-plaintext\">[ ( s, 366 ) ]</div></td></tr><tr><td>1</td><td><div class=\"dni-plaintext\">1</div></td><td><div class=\"dni-plaintext\">[ ( a, 304 ) ]</div></td></tr><tr><td>2</td><td><div class=\"dni-plaintext\">2</div></td><td><div class=\"dni-plaintext\">[ ( a, 307 ) ]</div></td></tr><tr><td>3</td><td><div class=\"dni-plaintext\">3</div></td><td><div class=\"dni-plaintext\">[ ( e, 318 ) ]</div></td></tr><tr><td>4</td><td><div class=\"dni-plaintext\">4</div></td><td><div class=\"dni-plaintext\">[ ( e, 424 ) ]</div></td></tr></tbody></table>"
      ]
     },
     "execution_count": 53,
     "metadata": {},
     "output_type": "execute_result"
    }
   ],
   "source": [
    "wordleWords |> mostFrequentLetterPosition"
   ]
  },
  {
   "attachments": {},
   "cell_type": "markdown",
   "metadata": {},
   "source": [
    "\n",
    "Next we want to sore each word, by the frequency of individual letters, to see if there is a word that contains the most frequent letters.\n",
    "\n",
    "The five most frequent letters in frequency order are: 'a', 'e', 's', 'r', 'o'.  \n",
    "\n",
    "Let's try to find a word that uses these letters.\n",
    "\n",
    "One way of doing this, is to create an aggregate score for each word, based on the frequency score of each individual letter.\n",
    "\n",
    "You really don't want to choose an inintial guess word that contains the same letter, as this doesn't reduce your search space, so I've penalised words that have the same letter."
   ]
  },
  {
   "cell_type": "code",
   "execution_count": 5,
   "metadata": {
    "vscode": {
     "languageId": "fsharp"
    }
   },
   "outputs": [
    {
     "data": {
      "text/html": [
       "<table><thead><tr><th><i>index</i></th><th>Word</th><th>Score</th></tr></thead><tbody><tr><td>0</td><td><div class=\"dni-plaintext\">arose</div></td><td><div class=\"dni-plaintext\">17744</div></td></tr><tr><td>1</td><td><div class=\"dni-plaintext\">arise</div></td><td><div class=\"dni-plaintext\">17460</div></td></tr><tr><td>2</td><td><div class=\"dni-plaintext\">raise</div></td><td><div class=\"dni-plaintext\">17460</div></td></tr><tr><td>3</td><td><div class=\"dni-plaintext\">serai</div></td><td><div class=\"dni-plaintext\">17460</div></td></tr><tr><td>4</td><td><div class=\"dni-plaintext\">arles</div></td><td><div class=\"dni-plaintext\">17325</div></td></tr><tr><td>5</td><td><div class=\"dni-plaintext\">earls</div></td><td><div class=\"dni-plaintext\">17325</div></td></tr><tr><td>6</td><td><div class=\"dni-plaintext\">lares</div></td><td><div class=\"dni-plaintext\">17325</div></td></tr><tr><td>7</td><td><div class=\"dni-plaintext\">laser</div></td><td><div class=\"dni-plaintext\">17325</div></td></tr><tr><td>8</td><td><div class=\"dni-plaintext\">lears</div></td><td><div class=\"dni-plaintext\">17325</div></td></tr><tr><td>9</td><td><div class=\"dni-plaintext\">rales</div></td><td><div class=\"dni-plaintext\">17325</div></td></tr></tbody></table>"
      ]
     },
     "execution_count": 5,
     "metadata": {},
     "output_type": "execute_result"
    }
   ],
   "source": [
    "type WordScore = {Word: string; Score: int}\n",
    "\n",
    "let letterScores =\n",
    "    words\n",
    "    |> Seq.map (fun word ->\n",
    "        let multiplier = \n",
    "            word \n",
    "            |> Seq.groupBy id \n",
    "            |> Seq.fold (fun state (f, s) ->  state * Seq.length s) 1\n",
    "        let freq = \n",
    "            word \n",
    "            |> Seq.fold (fun state letter -> state + Map.find letter frequenciesMap) 0\n",
    "        word, freq / multiplier)\n",
    "    |> Seq.sortByDescending snd\n",
    "\n",
    "letterScores |> Seq.take 10 |> Seq.map (fun (l, f) -> {Word = l; Score = f})"
   ]
  },
  {
   "attachments": {},
   "cell_type": "markdown",
   "metadata": {},
   "source": [
    "Above, I've listed the top 10 words, i.e. words that use the most frequent letters, where the letters are all distinct.\n",
    "\n",
    "So in this case, I've chosen my first word that I will use in wordle, as \"AROSE\".  Many people chose \"AROSE\" as a starting word, probably undertaking the same (basic) analysis.\n",
    "It's been proven since, that \"AROSE\" isn't the best starting word, but since I've used it since February, I've decided to stick with it for now\n",
    "\n",
    "Now there is a choice, if you play in 'hard mode', which means that you have to reuse letters scored in the previous round, then there is little point finding a generic second word.\n",
    "\n",
    "However, if you are not using 'hard mode', then it may well be worthwhile finding a second word.  \n",
    "\n",
    "My thinking here, is that I should choose the word that scores highly, but doesn't use the same letters are AROSE."
   ]
  },
  {
   "cell_type": "code",
   "execution_count": 9,
   "metadata": {
    "vscode": {
     "languageId": "fsharp"
    }
   },
   "outputs": [
    {
     "data": {
      "text/html": [
       "<table><thead><tr><th>Word</th><th>Score</th></tr></thead><tbody><tr><td><div class=\"dni-plaintext\">unlit</div></td><td><div class=\"dni-plaintext\">10300</div></td></tr></tbody></table>"
      ]
     },
     "execution_count": 9,
     "metadata": {},
     "output_type": "execute_result"
    }
   ],
   "source": [
    "let aroseSet = \"arose\" |> Set.ofSeq\n",
    "\n",
    "let secondWord = \n",
    "    letterScores\n",
    "    |> Seq.find (fun (word, _) ->\n",
    "        Set.intersect aroseSet (word |> Set.ofSeq)\n",
    "        |> Set.count |> (fun count -> count = 0))    \n",
    "        \n",
    "secondWord |> (fun (l, f) -> {Word = l; Score = f})"
   ]
  },
  {
   "attachments": {},
   "cell_type": "markdown",
   "metadata": {},
   "source": [
    "Therefore my next word will be \"UNLIT\".\n",
    "\n",
    "Using \"AROSE\" and \"UNLIT\" while in 'easy mode' did well for me.  After about a 100 or so games, I have a Mode of 3 (see stats page), although I didn't have any luck guessing below 3, obviously.\n",
    "\n",
    "But the What's app group that I play worlde with, decided to move to use 'Hard mode', so I could not longer use \"UNLIT\" as my second word, as I have to choose a second word which contains letters from \"AROSE\" in the right position, as given by the scoring algorithm."
   ]
  },
  {
   "attachments": {},
   "cell_type": "markdown",
   "metadata": {},
   "source": [
    "### Scoring\n",
    "\n",
    "The next step in our investigations is to choose a strategy and run a simulation on all 2305 wordle guess words, to see how that strategy fairs each day.\n",
    "\n",
    "For those not familiar with wordle, wordle has a fixed list of 2305 (earlier in the year when I tried) of words that will be the daily secret word.  Each day a specific word is chose from the list and everyone in the world tries the guess the same word.\n",
    "\n",
    "However, what we can do, is to take the word list from wordle (you can scrape it form the javascript source, or just search the internet for one) and run our simulation to see whether we are able solve the wordle each day, taking note of the average score for the whole 2305 set."
   ]
  },
  {
   "attachments": {},
   "cell_type": "markdown",
   "metadata": {},
   "source": [
    "The first thing we need is to, is to create a scorer function, i.e. a function that given a guess and the wordle, will score each letter, grey, green or yellow."
   ]
  },
  {
   "cell_type": "code",
   "execution_count": 13,
   "metadata": {
    "vscode": {
     "languageId": "fsharp"
    }
   },
   "outputs": [],
   "source": [
    "type AnswerMask = Green | Yellow | Grey\n",
    "\n",
    "module Counter =\n",
    "    let createCounter items =\n",
    "        items\n",
    "        |> List.filter (fun (a, g) -> a <> g)\n",
    "        |> List.map fst\n",
    "        |> List.countBy id\n",
    "        |> Map.ofList\n",
    "\n",
    "    let countOf counter item =\n",
    "        match Map.tryFind item counter with\n",
    "        | Some c -> c\n",
    "        | None -> 0\n",
    "\n",
    "    let updateCount counter item =\n",
    "        match Map.tryFind item counter with\n",
    "        | Some c -> Map.add item (c - 1) counter\n",
    "        | None -> counter\n",
    "\n",
    "let scoreGuess actual guess =\n",
    "\n",
    "    let letters = Seq.zip actual guess |> Seq.toList\n",
    "\n",
    "    let folder ((count, mask): Map<'a,int> * AnswerMask list) (a, g) =\n",
    "        if a = g then\n",
    "            count, Green :: mask\n",
    "        elif Seq.contains g actual && Counter.countOf count g > 0 then\n",
    "            Counter.updateCount count g, Yellow :: mask\n",
    "        else\n",
    "            count, Grey :: mask\n",
    "\n",
    "    List.fold folder (Counter.createCounter letters, []) letters |> snd |> List.rev"
   ]
  },
  {
   "attachments": {},
   "cell_type": "markdown",
   "metadata": {},
   "source": [
    "Now scoring, the guess 'arose' against the wordle 'favour', we see that the answer mask returned is Yellow, Yellow, Yellow, Grey, Grey."
   ]
  },
  {
   "cell_type": "code",
   "execution_count": 28,
   "metadata": {
    "vscode": {
     "languageId": "fsharp"
    }
   },
   "outputs": [
    {
     "data": {
      "text/html": [
       "<table><thead><tr><th><i>index</i></th><th>Wordle</th><th>Guess</th><th>Result</th></tr></thead><tbody><tr><td>0</td><td><div class=\"dni-plaintext\">FAVOR</div></td><td><div class=\"dni-plaintext\">AROSE</div></td><td><div class=\"dni-plaintext\">[ Yellow, Yellow, Yellow, Grey, Grey ]</div></td></tr><tr><td>1</td><td><div class=\"dni-plaintext\">FAVOR</div></td><td><div class=\"dni-plaintext\">RATIO</div></td><td><div class=\"dni-plaintext\">[ Yellow, Green, Grey, Grey, Yellow ]</div></td></tr><tr><td>2</td><td><div class=\"dni-plaintext\">FAVOR</div></td><td><div class=\"dni-plaintext\">CAROL</div></td><td><div class=\"dni-plaintext\">[ Grey, Green, Yellow, Green, Grey ]</div></td></tr><tr><td>3</td><td><div class=\"dni-plaintext\">FAVOR</div></td><td><div class=\"dni-plaintext\">VAPOR</div></td><td><div class=\"dni-plaintext\">[ Yellow, Green, Grey, Green, Green ]</div></td></tr><tr><td>4</td><td><div class=\"dni-plaintext\">AROSE</div></td><td><div class=\"dni-plaintext\">SPEED</div></td><td><div class=\"dni-plaintext\">[ Yellow, Grey, Yellow, Grey, Grey ]</div></td></tr><tr><td>5</td><td><div class=\"dni-plaintext\">TREAT</div></td><td><div class=\"dni-plaintext\">SPEED</div></td><td><div class=\"dni-plaintext\">[ Grey, Grey, Green, Grey, Grey ]</div></td></tr></tbody></table>"
      ]
     },
     "execution_count": 28,
     "metadata": {},
     "output_type": "execute_result"
    }
   ],
   "source": [
    "type ScoreResult = {Wordle: String; Guess: string; Result:AnswerMask list}\n",
    "\n",
    "let getScoreResult (wordle:string) (guess: string) = \n",
    "     wordle.ToUpper(), guess.ToUpper(), scoreGuess wordle guess\n",
    "\n",
    "let tests = \n",
    "    [\n",
    "        \"favor\", \"arose\"\n",
    "        \"favor\", \"ratio\"\n",
    "        \"favor\", \"carol\"\n",
    "        \"favor\", \"vapor\"\n",
    "        \"arose\", \"speed\"\n",
    "        \"treat\", \"speed\"\n",
    "    ]\n",
    "\n",
    "\n",
    "tests \n",
    "|> List.map (fun (wordle, guess) -> getScoreResult wordle guess)\n",
    "|> List.map (fun (w, g, r) -> {Wordle = w ; Guess = g; Result = r})"
   ]
  },
  {
   "attachments": {},
   "cell_type": "markdown",
   "metadata": {},
   "source": [
    "One key point to note here, is the handling of a double Yellow letter, which many people in examples that I've seen get wrong.\n",
    "\n",
    "If the wordle is \"AROSE\" and your guess is \"SPEED\", then you should score it as Yellow, Grey, Yellow, Grey, Grey, only the first instance of \"E\" in the \"SPEED\" being scored as a Yellow, the second instance is just a Grey.\n",
    "\n",
    "As an example, many do the following:"
   ]
  },
  {
   "cell_type": "code",
   "execution_count": 42,
   "metadata": {
    "vscode": {
     "languageId": "fsharp"
    }
   },
   "outputs": [
    {
     "data": {
      "text/html": [
       "<table><thead><tr><th>Wordle</th><th>Guess</th><th>Result</th></tr></thead><tbody><tr><td><div class=\"dni-plaintext\">arose</div></td><td><div class=\"dni-plaintext\">speed</div></td><td><div class=\"dni-plaintext\">[ Yellow, Grey, Yellow, Yellow, Grey ]</div></td></tr></tbody></table>"
      ]
     },
     "execution_count": 42,
     "metadata": {},
     "output_type": "execute_result"
    }
   ],
   "source": [
    "let actual = \"arose\"\n",
    "let guess = \"speed\"\n",
    "let dodgyScorer (actual:string) (guess: string) = \n",
    "    let letters = Seq.zip actual guess |> Seq.toList\n",
    "    let rec masker ls mask =\n",
    "        match ls with\n",
    "        | [] -> mask\n",
    "        | (a, g) :: t when a = g -> masker t (Green :: mask)\n",
    "        | (a, g) :: t when actual.Contains(g |> string) -> masker t (Yellow :: mask)\n",
    "        | h :: t -> masker t (Grey :: mask)\n",
    "    actual, guess, masker letters [] |> List.rev\n",
    "\n",
    "dodgyScorer actual guess |> fun (w, g, r) -> {Wordle = actual ; Guess = guess; Result = r}"
   ]
  },
  {
   "cell_type": "code",
   "execution_count": 43,
   "metadata": {
    "vscode": {
     "languageId": "fsharp"
    }
   },
   "outputs": [
    {
     "data": {
      "text/html": [
       "<table><thead><tr><th><i>index</i></th><th>Wordle</th><th>Guess</th><th>Result</th></tr></thead><tbody><tr><td>0</td><td><div class=\"dni-plaintext\">favor</div></td><td><div class=\"dni-plaintext\">arose</div></td><td><div class=\"dni-plaintext\">[ Yellow, Yellow, Yellow, Grey, Grey ]</div></td></tr><tr><td>1</td><td><div class=\"dni-plaintext\">favor</div></td><td><div class=\"dni-plaintext\">ratio</div></td><td><div class=\"dni-plaintext\">[ Yellow, Green, Grey, Grey, Yellow ]</div></td></tr><tr><td>2</td><td><div class=\"dni-plaintext\">favor</div></td><td><div class=\"dni-plaintext\">carol</div></td><td><div class=\"dni-plaintext\">[ Grey, Green, Yellow, Green, Grey ]</div></td></tr><tr><td>3</td><td><div class=\"dni-plaintext\">favor</div></td><td><div class=\"dni-plaintext\">vapor</div></td><td><div class=\"dni-plaintext\">[ Yellow, Green, Grey, Green, Green ]</div></td></tr><tr><td>4</td><td><div class=\"dni-plaintext\">arose</div></td><td><div class=\"dni-plaintext\">speed</div></td><td><div class=\"dni-plaintext\">[ Yellow, Grey, Yellow, Yellow, Grey ]</div></td></tr><tr><td>5</td><td><div class=\"dni-plaintext\">treat</div></td><td><div class=\"dni-plaintext\">speed</div></td><td><div class=\"dni-plaintext\">[ Grey, Grey, Green, Yellow, Grey ]</div></td></tr></tbody></table>"
      ]
     },
     "execution_count": 43,
     "metadata": {},
     "output_type": "execute_result"
    }
   ],
   "source": [
    "tests \n",
    "|> List.map (fun (wordle, guess) -> dodgyScorer wordle guess)\n",
    "|> List.map (fun (w, g, r) -> {Wordle = w ; Guess = g; Result = r})"
   ]
  },
  {
   "cell_type": "code",
   "execution_count": null,
   "metadata": {
    "vscode": {
     "languageId": "fsharp"
    }
   },
   "outputs": [],
   "source": []
  }
 ],
 "metadata": {
  "kernelspec": {
   "display_name": ".NET (F#)",
   "language": "F#",
   "name": ".net-fsharp"
  },
  "language_info": {
   "file_extension": ".fs",
   "mimetype": "text/x-fsharp",
   "name": "C#",
   "pygments_lexer": "fsharp",
   "version": "4.5"
  },
  "orig_nbformat": 4
 },
 "nbformat": 4,
 "nbformat_minor": 2
}
