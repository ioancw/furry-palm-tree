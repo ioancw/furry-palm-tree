{
 "cells": [
  {
   "attachments": {},
   "cell_type": "markdown",
   "metadata": {},
   "source": [
    "# F# Advent Calendar 2022\n",
    "\n",
    "My contrinution to the F# Advent Calendar 2022, is a relatively short post on using F# to help solve Wordle.\n",
    "For those who've been living under a rock this year, Wordle is a word guessing game created by Josh Wordle, and now owned by the NY Times.\n",
    "\n",
    "Users have to iteratively attempt to guess a secret word, where after each guess is 'scored' after submission. The scored letter is Green, if it's in the correct position in the secret word, yellow if it's in the word but not in the correct position, and grey if it's not in contained in the word.  The user continues to guess until, the scored guess contained all Green letters.\n",
    "\n",
    "The first thing to do, is some basic analysis on five letter words, to see if there are any patterns.  I found a dictionary on the internet, and not necessarily the same five letter word list that the office wordle app used."
   ]
  },
  {
   "attachments": {},
   "cell_type": "markdown",
   "metadata": {},
   "source": [
    "### Part 2 - Initial Investigation\n",
    "First of all some useful functions in order to load the letters from the file."
   ]
  },
  {
   "cell_type": "code",
   "execution_count": 14,
   "metadata": {
    "dotnet_interactive": {
     "language": "fsharp"
    },
    "vscode": {
     "languageId": "fsharp"
    }
   },
   "outputs": [],
   "source": [
    "open System.IO\n",
    "\n",
    "let rec listToString l =\n",
    "    match l with\n",
    "    | [] -> \"\"\n",
    "    | head :: tail -> head.ToString() + listToString tail\n",
    "\n",
    "let sortString s =\n",
    "    s |> Seq.sort |> Seq.toList |> listToString\n",
    "\n",
    "// load given word list and ensure 5 letter words selected\n",
    "let fiveLetterWords fileName = \n",
    "    fileName \n",
    "    |> File.ReadAllLines \n",
    "    |> Seq.filter (fun w -> w.Length = 5)"
   ]
  },
  {
   "cell_type": "code",
   "execution_count": 15,
   "metadata": {
    "dotnet_interactive": {
     "language": "fsharp"
    },
    "vscode": {
     "languageId": "fsharp"
    }
   },
   "outputs": [],
   "source": [
    "let words = fiveLetterWords @\"/Users/ioanwilliams/github/furry-palm-tree/words.txt\""
   ]
  },
  {
   "cell_type": "code",
   "execution_count": 16,
   "metadata": {
    "dotnet_interactive": {
     "language": "fsharp"
    },
    "vscode": {
     "languageId": "fsharp"
    }
   },
   "outputs": [
    {
     "data": {
      "text/html": [
       "<table><thead><tr><th><i>index</i></th><th>Item1</th><th>Item2</th></tr></thead><tbody><tr><td>0</td><td><div class=\"dni-plaintext\">s</div></td><td><div class=\"dni-plaintext\">4331</div></td></tr><tr><td>1</td><td><div class=\"dni-plaintext\">e</div></td><td><div class=\"dni-plaintext\">4303</div></td></tr><tr><td>2</td><td><div class=\"dni-plaintext\">a</div></td><td><div class=\"dni-plaintext\">3665</div></td></tr><tr><td>3</td><td><div class=\"dni-plaintext\">r</div></td><td><div class=\"dni-plaintext\">2733</div></td></tr><tr><td>4</td><td><div class=\"dni-plaintext\">o</div></td><td><div class=\"dni-plaintext\">2712</div></td></tr><tr><td>5</td><td><div class=\"dni-plaintext\">i</div></td><td><div class=\"dni-plaintext\">2428</div></td></tr><tr><td>6</td><td><div class=\"dni-plaintext\">l</div></td><td><div class=\"dni-plaintext\">2293</div></td></tr><tr><td>7</td><td><div class=\"dni-plaintext\">t</div></td><td><div class=\"dni-plaintext\">2154</div></td></tr><tr><td>8</td><td><div class=\"dni-plaintext\">n</div></td><td><div class=\"dni-plaintext\">1867</div></td></tr><tr><td>9</td><td><div class=\"dni-plaintext\">d</div></td><td><div class=\"dni-plaintext\">1611</div></td></tr></tbody></table>"
      ]
     },
     "execution_count": 16,
     "metadata": {},
     "output_type": "execute_result"
    }
   ],
   "source": [
    "let frequencies = \n",
    "    words \n",
    "    |> Seq.collect id \n",
    "    |> Seq.countBy id \n",
    "    |> Seq.sortByDescending snd\n",
    "\n",
    "let frequenciesMap =\n",
    "    frequenies\n",
    "    |> Map.ofSeq\n",
    "\n",
    "frequenies |> Seq.take 10\n"
   ]
  },
  {
   "attachments": {},
   "cell_type": "markdown",
   "metadata": {},
   "source": [
    "Unsurprisingly, the letter e features near the top of the list, although I didn't expect the letter s to be so frequent.\n",
    "\n",
    "Next we want to sore each word, by the frequency of individual letters, so see if there is a word that contains all the most frequent letters.\n",
    "\n",
    "The five most frequent letters in frequency order are: 'a', 'e', 's', 'r', 'o'.  Let's try to find a word that uses these letters."
   ]
  },
  {
   "cell_type": "code",
   "execution_count": 20,
   "metadata": {
    "vscode": {
     "languageId": "fsharp"
    }
   },
   "outputs": [
    {
     "data": {
      "text/html": [
       "<table><thead><tr><th><i>index</i></th><th>Item1</th><th>Item2</th></tr></thead><tbody><tr><td>0</td><td><div class=\"dni-plaintext\">arose</div></td><td><div class=\"dni-plaintext\">17744</div></td></tr><tr><td>1</td><td><div class=\"dni-plaintext\">arise</div></td><td><div class=\"dni-plaintext\">17460</div></td></tr><tr><td>2</td><td><div class=\"dni-plaintext\">raise</div></td><td><div class=\"dni-plaintext\">17460</div></td></tr><tr><td>3</td><td><div class=\"dni-plaintext\">serai</div></td><td><div class=\"dni-plaintext\">17460</div></td></tr><tr><td>4</td><td><div class=\"dni-plaintext\">arles</div></td><td><div class=\"dni-plaintext\">17325</div></td></tr><tr><td>5</td><td><div class=\"dni-plaintext\">earls</div></td><td><div class=\"dni-plaintext\">17325</div></td></tr><tr><td>6</td><td><div class=\"dni-plaintext\">lares</div></td><td><div class=\"dni-plaintext\">17325</div></td></tr><tr><td>7</td><td><div class=\"dni-plaintext\">laser</div></td><td><div class=\"dni-plaintext\">17325</div></td></tr><tr><td>8</td><td><div class=\"dni-plaintext\">lears</div></td><td><div class=\"dni-plaintext\">17325</div></td></tr><tr><td>9</td><td><div class=\"dni-plaintext\">rales</div></td><td><div class=\"dni-plaintext\">17325</div></td></tr></tbody></table>"
      ]
     },
     "execution_count": 20,
     "metadata": {},
     "output_type": "execute_result"
    }
   ],
   "source": [
    "let letterScores =\n",
    "    words\n",
    "    |> Seq.map (fun word ->\n",
    "        // this filters out words with multiple letters\n",
    "        let multiplier = \n",
    "            word \n",
    "            |> Seq.groupBy id \n",
    "            |> Seq.fold (fun state (f, s) ->  state * Seq.length s) 1\n",
    "        let freq = \n",
    "            word \n",
    "            |> Seq.fold (fun state letter -> state + Map.find letter frequenciesMap) 0\n",
    "        word, freq / multiplier)\n",
    "    |> Seq.sortByDescending snd\n",
    "letterScores |> Seq.take 10"
   ]
  },
  {
   "attachments": {},
   "cell_type": "markdown",
   "metadata": {},
   "source": [
    "Above, I've listed the top 10 words, i.e. words that use the most frequent letters.\n",
    "\n",
    "So in this case, I've chosen my first word, that I will use in wordle, as \"AROSE\".\n",
    "Now there is a choice, if you play in 'hard mode', which means that you have to reuse letters scored in the n-1 turn in the n turn, then there is little point finding a generic second word.\n",
    "\n",
    "However, if you are using non 'hard mode', then it may well be worthwhile finding a second word.  My thinking here, is that I should choose the word that scores highly, by doesn't use the same letters are AROSE."
   ]
  },
  {
   "cell_type": "code",
   "execution_count": 21,
   "metadata": {
    "vscode": {
     "languageId": "fsharp"
    }
   },
   "outputs": [
    {
     "data": {
      "text/html": [
       "<table><thead><tr><th>Item1</th><th>Item2</th></tr></thead><tbody><tr><td><div class=\"dni-plaintext\">unlit</div></td><td><div class=\"dni-plaintext\">10300</div></td></tr></tbody></table>"
      ]
     },
     "execution_count": 21,
     "metadata": {},
     "output_type": "execute_result"
    }
   ],
   "source": [
    "let aroseSet = \"arose\" |> Set.ofSeq\n",
    "\n",
    "letterScores\n",
    "|> Seq.find (fun (word, _) ->\n",
    "    let wSet = \n",
    "        word \n",
    "        |> Set.ofSeq\n",
    "    aroseSet \n",
    "    |> Seq.fold (fun state l -> state || Set.contains l wSet) false |> not)"
   ]
  },
  {
   "attachments": {},
   "cell_type": "markdown",
   "metadata": {},
   "source": [
    "Therefore my next word will be \"UNLIT\".\n",
    "Using \"AROSE\" and \"UNLIT\" while in 'easy mode', did well for me.  After about a 100 or so games, I have a Mode of 3 (see stats page), although I didn't have any luck guessing below 3.\n",
    "\n",
    "But the What's app group that I play worlde with, decided to move to use 'Hard mode', so I could not longer use \"UNLIT\" as my second word, as I have to choose a second word which contained letters from \"AROSE\" in the right position, as given by the scoring algorithm."
   ]
  },
  {
   "attachments": {},
   "cell_type": "markdown",
   "metadata": {},
   "source": [
    "### Simulation\n",
    "\n",
    "The next step in our investigations is to choose a strategy and run a simulation on all 2305 wordle guess words, to see how that strategy fairs each day.\n",
    "\n",
    "For those not familiar with wordle, wordle has a fixed list of 2305 (earlier in the year when I tried) of words that will be the daily secret word.  Each day a specific word is chose from the list and everyone in the world tries the guess the same word.\n",
    "\n",
    "However, what we can do, is to take the word list from wordle (you can scrape it form the javascript source, or just search the internet for one) and run our simulation to see whether we are able solve the wordle each day, taking note of the average score for the whole 2305 set."
   ]
  },
  {
   "attachments": {},
   "cell_type": "markdown",
   "metadata": {},
   "source": [
    "The first thing we need is to, is to create a scorer function, i.e. a function that given a guess and the wordle, will score each letter, grey, green or yellow."
   ]
  },
  {
   "cell_type": "code",
   "execution_count": 24,
   "metadata": {
    "vscode": {
     "languageId": "fsharp"
    }
   },
   "outputs": [],
   "source": [
    "type answerMask = Green | Yellow | Grey\n",
    "\n",
    "module Counter =\n",
    "    let createCounter items =\n",
    "        items\n",
    "        |> List.filter (fun (a, g) -> a <> g)\n",
    "        |> List.map fst\n",
    "        |> List.countBy id\n",
    "        |> Map.ofList\n",
    "\n",
    "    let countOf counter item =\n",
    "        match Map.tryFind item counter with\n",
    "        | Some c -> c\n",
    "        | None -> 0\n",
    "\n",
    "    let updateCount counter item =\n",
    "        match Map.tryFind item counter with\n",
    "        | Some c -> Map.add item (c - 1) counter\n",
    "        | None -> counter\n",
    "\n",
    "let scoreGuess actual guess =\n",
    "\n",
    "    let letters = Seq.zip actual guess\n",
    "    \n",
    "    let folder ((count, mask): Map<'a,int> * answerMask list) (a, g) =\n",
    "        if a = g then\n",
    "            count, Green :: mask\n",
    "        elif Seq.contains g actual && Counter.countOf count g > 0 then\n",
    "            Counter.updateCount count g, Yellow :: mask\n",
    "        else\n",
    "            count, Grey :: mask\n",
    "\n",
    "    List.fold folder (Counter.createCounter letters, []) letters \n",
    "    |> snd \n",
    "    |> List.rev"
   ]
  },
  {
   "attachments": {},
   "cell_type": "markdown",
   "metadata": {},
   "source": [
    "Now scoring, the guess 'arose' against the wordle 'favour', we see that the answer mask returned is Yellow, Yellow, Yellow, Grey, Grey."
   ]
  },
  {
   "cell_type": "code",
   "execution_count": 28,
   "metadata": {
    "vscode": {
     "languageId": "fsharp"
    }
   },
   "outputs": [
    {
     "data": {
      "text/html": [
       "<table><thead><tr><th><i>index</i></th><th></th></tr></thead><tbody><tr><td>0</td><td><div class=\"dni-plaintext\">Yellow</div></td></tr><tr><td>1</td><td><div class=\"dni-plaintext\">Yellow</div></td></tr><tr><td>2</td><td><div class=\"dni-plaintext\">Yellow</div></td></tr><tr><td>3</td><td><div class=\"dni-plaintext\">Grey</div></td></tr><tr><td>4</td><td><div class=\"dni-plaintext\">Grey</div></td></tr></tbody></table>"
      ]
     },
     "execution_count": 28,
     "metadata": {},
     "output_type": "execute_result"
    }
   ],
   "source": [
    "scoreGuess \"favor\" \"arose\""
   ]
  },
  {
   "cell_type": "code",
   "execution_count": null,
   "metadata": {
    "vscode": {
     "languageId": "fsharp"
    }
   },
   "outputs": [],
   "source": []
  }
 ],
 "metadata": {
  "kernelspec": {
   "display_name": ".NET (F#)",
   "language": "F#",
   "name": ".net-fsharp"
  },
  "language_info": {
   "file_extension": ".fs",
   "mimetype": "text/x-fsharp",
   "name": "C#",
   "pygments_lexer": "fsharp",
   "version": "4.5"
  },
  "orig_nbformat": 4
 },
 "nbformat": 4,
 "nbformat_minor": 2
}
