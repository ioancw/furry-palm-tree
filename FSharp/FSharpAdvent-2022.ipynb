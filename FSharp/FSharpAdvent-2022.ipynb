{
 "cells": [
  {
   "cell_type": "markdown",
   "metadata": {},
   "source": [
    "# F# Advent Calendar 2022\n",
    "\n",
    "## Using F# to help solve Wordle\n",
    "\n",
    "This is my contrinution to the F# Advent Calendar 2022, which is a relatively short post on using F# to help solve Wordle.\n",
    "For those who've been living under a rock this year, Wordle is a word guessing game created by Josh Wardle, and now owned by the NY Times.\n",
    "\n",
    "The game involves iteratively attempting to guess a secret word, with each guess 'scored' against this secret word. If the guess word's letter is in the correct position in the secret word, then that letter is scored as Green. If it's in the word but not in the correct position then Yellow, and Grey if it's not contained in the word.  \n",
    "\n",
    "You continue to guess until the game is won - where each letter is scored Green - or you run out out attempts.  You only get six attempts to guess the word.\n",
    "\n",
    " I found a dictionary of words on the internet, so will use this in order to create a collection of five letter words.  For those of you familiar with wordle, you'll know that the way Josh structured the game, is that that the Worlde is selected from a set of 2315 words, but each word you guess is checked to ensure that it exists in a much larger population of words (approx 11,000).  This may have changed somewhat since the NY Times bought wordle from Josh, and also since they now use a dedicated word setter, rather than using Josh's original list. You can scrape these lists from the JavaScript source code, however in order to not spoil things, I will use my internet downloaded set of words. The stats don't change much between the wordle set of words and the internet set of words - as you can see below."
   ]
  },
  {
   "cell_type": "code",
   "execution_count": null,
   "metadata": {
    "vscode": {
     "languageId": "polyglot-notebook"
    }
   },
   "outputs": [],
   "source": [
    "#r \"nuget: XPlot.Plotly.Interactive\"\n",
    "open XPlot.Plotly"
   ]
  },
  {
   "cell_type": "markdown",
   "metadata": {},
   "source": [
    "### Part 1 - Analysing five letter words\n",
    "First of all, some useful functions in order to load the letters from the file."
   ]
  },
  {
   "cell_type": "code",
   "execution_count": null,
   "metadata": {
    "dotnet_interactive": {
     "language": "fsharp"
    },
    "vscode": {
     "languageId": "polyglot-notebook"
    }
   },
   "outputs": [],
   "source": [
    "open System.IO\n",
    "\n",
    "let rec listToString l =\n",
    "    match l with\n",
    "    | [] -> \"\"\n",
    "    | head :: tail -> head.ToString() + listToString tail\n",
    "\n",
    "let sortString s =\n",
    "    s |> Seq.sort |> Seq.toList |> listToString\n",
    "\n",
    "let fiveLetterWords fileName = \n",
    "    fileName \n",
    "    |> File.ReadAllLines \n",
    "    |> Seq.filter (fun w -> w.Length = 5)\n",
    "\n",
    "let words = fiveLetterWords @\"../words.txt\""
   ]
  },
  {
   "cell_type": "markdown",
   "metadata": {},
   "source": [
    "After loading five letter words from the dictionary file, the first thing we want to do is to determine the best starting word to use.  Much has been written about the best opening word or set of words, and my method is quite simple compared to the more advanced ones (see https://www.3blue1brown.com/lessons/wordle ).\n",
    "\n",
    "However, a good starting point is to use some frequency analysis, i.e. to derive the best starting word from the most frequent sets of letters that appear in five letter words.\n",
    "\n",
    "Below I process the list of five letters words, to create a sequence of letters and the count of occurances of that letter within our set of words.  Using F# is wonderfully straightforward, with the collect and countBy functions."
   ]
  },
  {
   "cell_type": "code",
   "execution_count": null,
   "metadata": {
    "dotnet_interactive": {
     "language": "fsharp"
    },
    "vscode": {
     "languageId": "polyglot-notebook"
    }
   },
   "outputs": [],
   "source": [
    "type Frequency = {Letter: char; Frequency: int}\n",
    "\n",
    "let frequencies = \n",
    "    words \n",
    "    |> Seq.collect id \n",
    "    |> Seq.countBy id \n",
    "    |> Seq.sortByDescending snd\n",
    "\n",
    "let frequenciesMap =\n",
    "    frequencies\n",
    "    |> Map.ofSeq\n",
    "\n",
    "let vowels = ['a'; 'e'; 'i'; 'o'; 'u']\n",
    "\n",
    "frequencies |> Seq.take 10 |> Seq.map (fun (l, f) -> {Letter =  l; Frequency = f})"
   ]
  },
  {
   "cell_type": "code",
   "execution_count": null,
   "metadata": {
    "vscode": {
     "languageId": "polyglot-notebook"
    }
   },
   "outputs": [],
   "source": [
    "let x = frequencies |> Seq.toList |> List.map fst\n",
    "let y = frequencies |> Seq.toList |> List.map snd\n",
    "let blue = \"#447adb\"\n",
    "let red = \"#db5a44\"\n",
    "let markers = x |> List.map (fun l -> if List.contains l vowels then red else blue)\n",
    "\n",
    "// this bar chart doens't seem to render in saved notebooks.\n",
    "Bar(x = x, y = y, marker = Marker(color = markers)) \n",
    "|> Chart.Plot \n",
    "|> Chart.WithTitle \"Letter Frequencies\"\n",
    "|> Chart.WithXTitle \"Letters with vowels highlighted\"\n",
    "printfn \"For somereason the char doesn't show in saved notebooks.\""
   ]
  },
  {
   "cell_type": "markdown",
   "metadata": {},
   "source": [
    "Surpringly the letter S, is the most frequent, just pipping E to the top spot, although I expected given E to be high given it is the most frequent letter in the English language.\n",
    "\n",
    "Now that we have some letter frequencies, lets see if we can find a word in the dictionary set, that uses the top five letters.\n",
    "\n",
    "The five most frequent letters in frequency order are: 'A', 'E', 'S', 'R', 'O'.  \n",
    "\n",
    "Let's try to find a word that uses these letters.\n",
    "\n",
    "One way of doing this, is to create an aggregate score for each word, based on the frequency score of each individual letter.\n",
    "\n",
    "You really don't want to choose an inintial guess word that contains the same letter, as this doesn't reduce your search space, so I've penalised words that repeat letters."
   ]
  },
  {
   "cell_type": "code",
   "execution_count": null,
   "metadata": {
    "vscode": {
     "languageId": "polyglot-notebook"
    }
   },
   "outputs": [],
   "source": [
    "type WordScore = {Word: string; Score: int}\n",
    "\n",
    "let letterScores =\n",
    "    words\n",
    "    |> Seq.map (fun word ->\n",
    "        let penalty = \n",
    "            word \n",
    "            |> Seq.groupBy id \n",
    "            |> Seq.fold (fun state (f, s) ->  state * Seq.length s) 1\n",
    "        let freq = \n",
    "            word \n",
    "            |> Seq.fold (fun state letter -> state + Map.find letter frequenciesMap) 0\n",
    "        word, freq / penalty)\n",
    "    |> Seq.sortByDescending snd\n",
    "\n",
    "letterScores |> Seq.take 10 |> Seq.map (fun (l, f) -> {Word = l; Score = f})"
   ]
  },
  {
   "cell_type": "markdown",
   "metadata": {},
   "source": [
    "Above, are listed the top 10 words, i.e. words that use the most frequent letters, where the letters are all distinct.\n",
    "\n",
    "So in this case, I've chosen my first word that I will use in Wordle, as \"AROSE\".  Many people chose \"AROSE\" as a starting word, probably undertaking the same (basic) analysis.\n",
    "\n",
    "It's been proven since, that \"AROSE\" isn't the best starting word, but as I've used it since February, I've decided to stick with it for now.\n",
    "\n",
    "Now there is a choice, if you play in 'hard mode', which means that you have to reuse letters scored in the previous round, then there is little point finding a generic second word.\n",
    "\n",
    "However, if you are not using 'hard mode', then it may well be worthwhile finding a second word.  \n",
    "\n",
    "My thinking here, is that I should choose the next word that scores highly, but doesn't use the same letters are AROSE."
   ]
  },
  {
   "cell_type": "code",
   "execution_count": null,
   "metadata": {
    "vscode": {
     "languageId": "polyglot-notebook"
    }
   },
   "outputs": [],
   "source": [
    "let aroseSet = \"arose\" |> Set.ofSeq\n",
    "\n",
    "let secondWord = \n",
    "    letterScores\n",
    "    |> Seq.find (fun (word, _) ->\n",
    "        word \n",
    "        |> Set.ofSeq    \n",
    "        |> Set.intersect aroseSet \n",
    "        |> Set.count \n",
    "        |> (fun count -> count = 0))    \n",
    "        \n",
    "secondWord |> (fun (l, f) -> {Word = l; Score = f})"
   ]
  },
  {
   "cell_type": "markdown",
   "metadata": {},
   "source": [
    "Therefore my next word will be \"UNLIT\".\n",
    "\n",
    "Using \"AROSE\" and \"UNLIT\" while in 'easy mode' did well for me.  After about a 100 or so games, I have a mode of 3 (see stats page), although I didn't have any luck guessing below 3, obviously.\n",
    "\n",
    "But the What's app group that I play Worlde with, decided to move to use 'hard mode', so I could not longer use \"UNLIT\" as my second word, as I have to choose a second word which contains letters from \"AROSE\" in the right position, as given by the scoring algorithm.\n",
    "\n",
    "### Positional Frequencies\n",
    "Let's now look at individual letter frequencies in each position, i.e. what's the most common first, last letter etc.\n",
    "\n",
    "We can process the word list again, but this time splitting each word into individual letters, and then creating a count of letters in the first, second etc positions.  This will help, after entering the first and second words, in order to place Yellow letters into the correct positions."
   ]
  },
  {
   "cell_type": "code",
   "execution_count": null,
   "metadata": {
    "vscode": {
     "languageId": "polyglot-notebook"
    }
   },
   "outputs": [],
   "source": [
    "let letterPositionFrequency (words: string seq) = \n",
    "    words\n",
    "    |> Seq.map (fun w -> w.ToCharArray() |> Array.indexed)\n",
    "    |> Seq.collect id\n",
    "    |> Seq.groupBy fst\n",
    "    |> Seq.map (fun (p, cs) -> p, cs |> Seq.countBy snd |> Seq.sortByDescending snd)\n",
    "\n",
    "let mostFrequentLetterPosition words = \n",
    "    words \n",
    "    |> letterPositionFrequency\n",
    "    |> Seq.map (fun (p, lfs) -> p, lfs |> Seq.head |> fst)\n",
    "\n",
    "words |> mostFrequentLetterPosition"
   ]
  },
  {
   "cell_type": "markdown",
   "metadata": {},
   "source": [
    "You can see that the most frequent letters in each position are: S, A, A, E, S, which isn't that surprising, given the first frequency analysis we did.\n",
    "\n",
    "Although this is using a far larger set of 5 letter words that the one used in Wordle.\n",
    "\n",
    "So let's try this with the actual wordle dataset (this was taken last April, so may well have changed now)"
   ]
  },
  {
   "cell_type": "code",
   "execution_count": null,
   "metadata": {
    "vscode": {
     "languageId": "polyglot-notebook"
    }
   },
   "outputs": [],
   "source": [
    "let wordleWords = File.ReadAllLines @\"../Python/wordle_words.txt\"\n",
    "wordleWords |> Seq.length"
   ]
  },
  {
   "cell_type": "code",
   "execution_count": null,
   "metadata": {
    "vscode": {
     "languageId": "polyglot-notebook"
    }
   },
   "outputs": [],
   "source": [
    "wordleWords |> mostFrequentLetterPosition"
   ]
  },
  {
   "cell_type": "code",
   "execution_count": null,
   "metadata": {
    "vscode": {
     "languageId": "polyglot-notebook"
    }
   },
   "outputs": [],
   "source": [
    "wordleWords |> letterPositionFrequency"
   ]
  },
  {
   "cell_type": "code",
   "execution_count": null,
   "metadata": {
    "vscode": {
     "languageId": "polyglot-notebook"
    }
   },
   "outputs": [],
   "source": [
    "let filterFrequenciesOn letter = \n",
    "    wordleWords\n",
    "    |> letterPositionFrequency\n",
    "    |> Seq.map (fun (p, cs) -> cs |> Seq.filter (fun (l, _) -> l = letter) |> Seq.head)\n",
    "\n",
    "filterFrequenciesOn 'y'"
   ]
  },
  {
   "cell_type": "code",
   "execution_count": null,
   "metadata": {
    "vscode": {
     "languageId": "polyglot-notebook"
    }
   },
   "outputs": [],
   "source": [
    "let letterPositionFrequencyFilter position letter = \n",
    "    wordleWords\n",
    "    |> Seq.map (fun w -> w.ToCharArray() |> Array.indexed)\n",
    "    |> Seq.filter (fun cs -> cs.[position - 1] |> snd = letter)\n",
    "    |> Seq.collect id\n",
    "    |> Seq.groupBy fst\n",
    "    |> Seq.map (fun (p, cs) -> p, cs |> Seq.countBy snd |> Seq.sortByDescending snd)\n",
    "\n",
    "letterPositionFrequencyFilter 5 'y'"
   ]
  },
  {
   "attachments": {},
   "cell_type": "markdown",
   "metadata": {},
   "source": [
    "As you can see above, position frequency analysis can yield useful results. The letter Y occurs far more frequently at the end of a five letter word, then any other position.\n",
    "\n",
    "Filtering on words ending in Y, you can see that the penultimate letter in the word, has a high chance of being L, T, D, R, K, which indicates that the last two letters of a word ending in Y could be, LY, TY, DY, RY.\n",
    "\n",
    "### Scoring\n",
    "\n",
    "Let's now create a scorer function, we can use in any strategy that we might employ (and my own wordle game, see below).\n",
    "\n",
    "This is a function that takes a guess word and the actual wordle, and returns for each guessed letter, whether it is Yellow (in the wordle but not in correct position), Green (in the correct position), Grey (not in the wordle.)\n",
    "\n",
    "In order to score correctly (see point below), you need to keep track of the number of Yellow words in your guess word, and reduce this number each time you score a letter as yellow. For this I've created my own Counter type, which acts in a similar way to the Counter function in Python (which I originally used for my analysis)."
   ]
  },
  {
   "cell_type": "code",
   "execution_count": null,
   "metadata": {
    "vscode": {
     "languageId": "polyglot-notebook"
    }
   },
   "outputs": [],
   "source": [
    "type AnswerMask = Green | Yellow | Grey\n",
    "\n",
    "module Counter =\n",
    "    let createCounter items =\n",
    "        items\n",
    "        |> List.filter (fun (a, g) -> a <> g)\n",
    "        |> List.map fst\n",
    "        |> List.countBy id\n",
    "        |> Map.ofList\n",
    "\n",
    "    let countOf counter item =\n",
    "        match Map.tryFind item counter with\n",
    "        | Some c -> c\n",
    "        | None -> 0\n",
    "\n",
    "    let updateCount counter item =\n",
    "        match Map.tryFind item counter with\n",
    "        | Some c -> Map.add item (c - 1) counter\n",
    "        | None -> counter\n",
    "\n",
    "let scoreGuess actual guess =\n",
    "\n",
    "    let letters = Seq.zip actual guess |> Seq.toList\n",
    "\n",
    "    let folder ((count, mask): Map<'a,int> * AnswerMask list) (a, g) =\n",
    "        if a = g then\n",
    "            count, Green :: mask\n",
    "        elif Seq.contains g actual && Counter.countOf count g > 0 then\n",
    "            Counter.updateCount count g, Yellow :: mask\n",
    "        else\n",
    "            count, Grey :: mask\n",
    "\n",
    "    List.fold folder (Counter.createCounter letters, []) letters |> snd |> List.rev"
   ]
  },
  {
   "cell_type": "markdown",
   "metadata": {},
   "source": [
    "Now scoring, the guess 'arose' against the wordle 'favour', we see that the answer mask returned is Yellow, Yellow, Yellow, Grey, Grey."
   ]
  },
  {
   "cell_type": "code",
   "execution_count": null,
   "metadata": {
    "vscode": {
     "languageId": "polyglot-notebook"
    }
   },
   "outputs": [],
   "source": [
    "type ScoreResult = {Wordle: String; Guess: string; Result:AnswerMask list}\n",
    "\n",
    "let getScoreResult (wordle:string) (guess: string) = \n",
    "     wordle.ToUpper(), guess.ToUpper(), scoreGuess wordle guess\n",
    "\n",
    "let tests = \n",
    "    [\n",
    "        \"favor\", \"arose\"\n",
    "        \"favor\", \"ratio\"\n",
    "        \"favor\", \"carol\"\n",
    "        \"favor\", \"vapor\"\n",
    "        \"arose\", \"speed\"\n",
    "        \"treat\", \"speed\"\n",
    "    ]\n",
    "\n",
    "tests \n",
    "|> List.map (fun (wordle, guess) -> getScoreResult wordle guess)\n",
    "|> List.map (fun (w, g, r) -> {Wordle = w ; Guess = g; Result = r})"
   ]
  },
  {
   "cell_type": "markdown",
   "metadata": {},
   "source": [
    "As I mentioned above, one key point is the handling of a double Yellow letter, which many people in examples that I've seen, get wrong.\n",
    "\n",
    "If the wordle is \"AROSE\" and your guess is \"SPEED\", then you should score it as Yellow, Grey, Yellow, Grey, Grey, with only the first instance of \"E\" in the \"SPEED\" being scored as a Yellow, the second instance is just a Grey.\n",
    "\n",
    "As an example, many do the following:"
   ]
  },
  {
   "cell_type": "code",
   "execution_count": null,
   "metadata": {
    "vscode": {
     "languageId": "polyglot-notebook"
    }
   },
   "outputs": [],
   "source": [
    "let actual = \"arose\"\n",
    "let guess = \"speed\"\n",
    "let dodgyScorer (actual:string) (guess: string) = \n",
    "    let letters = Seq.zip actual guess |> Seq.toList\n",
    "    let rec masker ls mask =\n",
    "        match ls with\n",
    "        | [] -> mask\n",
    "        | (a, g) :: t when a = g -> masker t (Green :: mask)\n",
    "        | (a, g) :: t when actual.Contains(g |> string) -> masker t (Yellow :: mask)\n",
    "        | h :: t -> masker t (Grey :: mask)\n",
    "    actual, guess, masker letters [] |> List.rev\n",
    "\n",
    "dodgyScorer actual guess |> fun (w, g, r) -> {Wordle = actual ; Guess = guess; Result = r}"
   ]
  },
  {
   "cell_type": "code",
   "execution_count": null,
   "metadata": {
    "dotnet_interactive": {
     "language": "fsharp"
    },
    "polyglot_notebook": {
     "kernelName": "fsharp"
    },
    "vscode": {
     "languageId": "polyglot-notebook"
    }
   },
   "outputs": [],
   "source": [
    "tests \n",
    "|> List.map (fun (wordle, guess) -> dodgyScorer wordle guess)\n",
    "|> List.map (fun (w, g, r) -> {Wordle = w ; Guess = g; Result = r})"
   ]
  },
  {
   "cell_type": "markdown",
   "metadata": {},
   "source": [
    "As you can see, in the final two words, the dodgyScorer function gets the score wrong - so it's good to add these sets of words to any unit tests.\n",
    "\n",
    "At this point, I had planned on running the simulation that I wrote in Python - it plays Wordle for each 2315 words employing custom strategies - using Fable to Python.  Alas, as with most things around Christmas, I didn't leave enough time to get this done.\n",
    "\n",
    "Maybe if you read this in the New Year, I would have done this."
   ]
  },
  {
   "cell_type": "markdown",
   "metadata": {},
   "source": [
    "### Part 2 Putting it all together.\n",
    "\n",
    "This should have been a separate blog post, however I might as well include it here. Earlier this year, I wrote my own version of Wordle, to help my daughter with her Phonics at school.  It's basically the same Wordle, game as described above, but I also provide a Phonic hint for each word, i.e. if the Wordle is \"GREAT\", then the Phonic hint would be /AE/ corresponding to the sound made by the Grapheme 'EA' in GREAT.\n",
    "\n",
    "I wrote this in Fable.Lit, copying a Math Game that Aaron made for his daugher (https://aaronmu.github.io/MathGame/).\n",
    "\n",
    "I've done very little in HTML prior to this exercise, and nothing in CSS, and knowing very little, I was surprised how quickly I could achieve something in F# and Fable.\n",
    "\n",
    "Here's my version of Wordle, https://ioancw.github.io/AureliaWordle/.  It's been optimised for the non pro/max versions of the iPhones, so hopefully it will render OK on whatever device you are using.  \n",
    "\n",
    "The code is here is you want to have a look, https://github.com/ioancw/AureliaWordle.\n",
    "\n",
    "All for now, hopefully I will have time to expand on the above in the future.\n",
    "\n",
    "Thanks to Sergey Tihon for setting up the F# Advent Calendar, and his F# Weekly blog posts."
   ]
  },
  {
   "cell_type": "markdown",
   "metadata": {},
   "source": []
  }
 ],
 "metadata": {
  "kernelspec": {
   "display_name": ".NET (F#)",
   "language": "F#",
   "name": ".net-fsharp"
  },
  "language_info": {
   "file_extension": ".fs",
   "mimetype": "text/x-fsharp",
   "name": "F#",
   "pygments_lexer": "fsharp",
   "version": "4.5"
  }
 },
 "nbformat": 4,
 "nbformat_minor": 2
}
