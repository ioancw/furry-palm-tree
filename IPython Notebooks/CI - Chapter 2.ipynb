{
 "cells": [
  {
   "cell_type": "code",
   "execution_count": 3,
   "metadata": {
    "collapsed": true
   },
   "outputs": [],
   "source": [
    "# A dictionary of movie critics and their ratings of a small\n",
    "# set of movies\n",
    "critics={'Lisa Rose': {'Lady in the Water': 2.5, \n",
    "                            'Snakes on a Plane': 3.5,\n",
    "                            'Just My Luck': 3.0, \n",
    "                            'Superman Returns': 3.5, \n",
    "                            'You, Me and Dupree': 2.5,\n",
    "                            'The Night Listener': 3.0},\n",
    "     'Gene Seymour': {'Lady in the Water': 3.0, \n",
    "                      'Snakes on a Plane': 3.5,\n",
    "                      'Just My Luck': 1.5, \n",
    "                      'Superman Returns': 5.0, \n",
    "                      'The Night Listener': 3.0,\n",
    "                      'You, Me and Dupree': 3.5},\n",
    "     'Michael Phillips': \n",
    "              {'Lady in the Water': 2.5, \n",
    "               'Snakes on a Plane': 3.0,\n",
    "               'Superman Returns': 3.5, \n",
    "               'The Night Listener': 4.0},\n",
    "     'Claudia Puig': {'Snakes on a Plane': 3.5, \n",
    "                      'Just My Luck': 3.0,\n",
    "                      'The Night Listener': 4.5, \n",
    "                      'Superman Returns': 4.0,\n",
    "                      'You, Me and Dupree': 2.5},\n",
    "     'Mick LaSalle': {'Lady in the Water': 3.0, \n",
    "                      'Snakes on a Plane': 4.0,\n",
    "                      'Just My Luck': 2.0, \n",
    "                      'Superman Returns': 3.0, \n",
    "                      'The Night Listener': 3.0,\n",
    "                      'You, Me and Dupree': 2.0},\n",
    "     'Jack Matthews': {'Lady in the Water': 3.0, \n",
    "                        'Snakes on a Plane': 4.0,\n",
    "                        'The Night Listener': 3.0, \n",
    "                       'Superman Returns': 5.0, \n",
    "                       'You, Me and Dupree': 3.5},\n",
    "     'Toby': {'Snakes on a Plane':4.5,\n",
    "              'You, Me and Dupree':1.0,\n",
    "              'Superman Returns':4.0}}"
   ]
  },
  {
   "cell_type": "code",
   "execution_count": 7,
   "metadata": {},
   "outputs": [],
   "source": [
    "toby_snakes = critics['Toby']['Snakes on a Plane']\n",
    "toby_Dupress = critics['Toby']['You, Me and Dupree']"
   ]
  },
  {
   "cell_type": "code",
   "execution_count": 9,
   "metadata": {},
   "outputs": [],
   "source": [
    "lasalle_snakes = critics['Mick LaSalle']['Snakes on a Plane']\n",
    "lasalle_Dupress = critics['Mick LaSalle']['You, Me and Dupree']"
   ]
  },
  {
   "cell_type": "code",
   "execution_count": 13,
   "metadata": {
    "collapsed": true
   },
   "outputs": [],
   "source": [
    "def ecludian_distance(x1,x2,y1,y2):\n",
    "    from math import sqrt\n",
    "    return 1/(1+sqrt(pow(x2-x1,2)+pow(y2-y1,2)))"
   ]
  },
  {
   "cell_type": "code",
   "execution_count": 14,
   "metadata": {},
   "outputs": [
    {
     "data": {
      "text/plain": [
       "0.4721359549995794"
      ]
     },
     "execution_count": 14,
     "metadata": {},
     "output_type": "execute_result"
    }
   ],
   "source": [
    "toby_lasalle = ecludian_distance(toby_snakes, lasalle_snakes, \n",
    "                                toby_Dupress, lasalle_Dupress)\n",
    "toby_lasalle"
   ]
  },
  {
   "cell_type": "code",
   "execution_count": 17,
   "metadata": {
    "collapsed": true
   },
   "outputs": [],
   "source": [
    "def sim_distance(prefs, person1, person2):\n",
    "    #list of shared items\n",
    "    si={}\n",
    "    for item in prefs[person1]:\n",
    "        if item in prefs[person2]:\n",
    "            si[item]=1\n",
    "    \n",
    "    if len(si)==0:\n",
    "        return 0\n",
    "    sum_of_squares = sum([pow(prefs[person1][item] - prefs[person2][item],2)\n",
    "        for item in prefs[person1] if item in prefs[person2]])\n",
    "    return 1/(1+sum_of_squares)"
   ]
  },
  {
   "cell_type": "code",
   "execution_count": 18,
   "metadata": {},
   "outputs": [
    {
     "data": {
      "text/plain": [
       "0.14814814814814814"
      ]
     },
     "execution_count": 18,
     "metadata": {},
     "output_type": "execute_result"
    }
   ],
   "source": [
    "sim_distance(critics, 'Lisa Rose', 'Gene Seymour')"
   ]
  },
  {
   "cell_type": "code",
   "execution_count": 23,
   "metadata": {},
   "outputs": [],
   "source": [
    "#returns Pearson correlation coefficient for p1 and p2\n",
    "def sim_pearson(prefs, p1, p2):\n",
    "    from math import sqrt\n",
    "    si = {}\n",
    "    for item in prefs[p1]:\n",
    "        if item in prefs[p2]:\n",
    "            si[item]=1\n",
    "    \n",
    "    n=len(si)\n",
    "    \n",
    "    if n==0:\n",
    "        return 0\n",
    "    \n",
    "    sum1 = sum([prefs[p1][i] for i in si])\n",
    "    sum2 = sum([prefs[p2][i] for i in si])\n",
    "    \n",
    "    # Sum up the squares\n",
    "    sum1Sq=sum([pow(prefs[p1][it],2) for it in si])\n",
    "    sum2Sq=sum([pow(prefs[p2][it],2) for it in si])\n",
    "    # Sum up the products\n",
    "    pSum=sum([prefs[p1][it]*prefs[p2][it] for it in si])\n",
    "    # Calculate Pearson score\n",
    "    num=pSum-(sum1*sum2/n)\n",
    "    den=sqrt((sum1Sq-pow(sum1,2)/n)*(sum2Sq-pow(sum2,2)/n))\n",
    "    if den==0: return 0\n",
    "    r=num/den\n",
    "    return r"
   ]
  },
  {
   "cell_type": "code",
   "execution_count": 24,
   "metadata": {},
   "outputs": [
    {
     "data": {
      "text/plain": [
       "0.39605901719066977"
      ]
     },
     "execution_count": 24,
     "metadata": {},
     "output_type": "execute_result"
    }
   ],
   "source": [
    "sim_pearson(critics, 'Lisa Rose', 'Gene Seymour')"
   ]
  },
  {
   "cell_type": "code",
   "execution_count": 27,
   "metadata": {
    "collapsed": true
   },
   "outputs": [],
   "source": [
    "# Returns the best matches for person from the prefs dictionary.\n",
    "# Number of results and similarity function are optional params.\n",
    "def topMatches(prefs,person,n=5,similarity=sim_pearson):\n",
    "    scores=[(similarity(prefs,person,other),other) \n",
    "            for other in prefs if other!=person]\n",
    "    # Sort the list so the highest scores appear at the top \n",
    "    scores.sort()\n",
    "    scores.reverse()\n",
    "    return scores[0:n]"
   ]
  },
  {
   "cell_type": "code",
   "execution_count": 28,
   "metadata": {},
   "outputs": [
    {
     "data": {
      "text/plain": [
       "[(0.9912407071619299, 'Lisa Rose'),\n",
       " (0.9244734516419049, 'Mick LaSalle'),\n",
       " (0.8934051474415647, 'Claudia Puig')]"
      ]
     },
     "execution_count": 28,
     "metadata": {},
     "output_type": "execute_result"
    }
   ],
   "source": [
    "topMatches(critics, 'Toby' ,3)"
   ]
  },
  {
   "cell_type": "code",
   "execution_count": null,
   "metadata": {
    "collapsed": true
   },
   "outputs": [],
   "source": []
  }
 ],
 "metadata": {
  "kernelspec": {
   "display_name": "Python 3",
   "language": "python",
   "name": "python3"
  },
  "language_info": {
   "codemirror_mode": {
    "name": "ipython",
    "version": 3
   },
   "file_extension": ".py",
   "mimetype": "text/x-python",
   "name": "python",
   "nbconvert_exporter": "python",
   "pygments_lexer": "ipython3",
   "version": "3.6.1"
  }
 },
 "nbformat": 4,
 "nbformat_minor": 2
}
