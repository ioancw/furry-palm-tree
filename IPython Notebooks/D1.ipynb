{
 "cells": [
  {
   "cell_type": "markdown",
   "metadata": {
    "button": false,
    "deletable": true,
    "new_sheet": false,
    "run_control": {
     "read_only": false
    }
   },
   "source": [
    "Day 1, Part 1"
   ]
  },
  {
   "cell_type": "code",
   "execution_count": null,
   "metadata": {
    "button": false,
    "collapsed": true,
    "deletable": true,
    "new_sheet": false,
    "run_control": {
     "read_only": false
    }
   },
   "outputs": [],
   "source": [
    "def rotate(l, n):\n",
    "    return l[n:] + l[:n]"
   ]
  },
  {
   "cell_type": "code",
   "execution_count": null,
   "metadata": {
    "button": false,
    "collapsed": true,
    "deletable": true,
    "new_sheet": false,
    "run_control": {
     "read_only": false
    }
   },
   "outputs": [],
   "source": [
    "def create_int_list_from_string(input):\n",
    "    return [int(i) for i in str(input)]"
   ]
  },
  {
   "cell_type": "code",
   "execution_count": null,
   "metadata": {
    "button": false,
    "collapsed": false,
    "deletable": true,
    "new_sheet": false,
    "run_control": {
     "read_only": false
    }
   },
   "outputs": [],
   "source": [
    "def calculate_sum(input):\n",
    "    compare_list  = create_int_list_from_string(input)\n",
    "    number_of_items = len(compare_list)\n",
    "    my_sum = 0\n",
    "    \n",
    "    for i in range(number_of_items):\n",
    "        if compare_list[0] == compare_list[1]:\n",
    "            my_sum += compare_list[0]\n",
    "            \n",
    "        compare_list = rotate(compare_list,1) \n",
    "    return my_sum"
   ]
  },
  {
   "cell_type": "code",
   "execution_count": null,
   "metadata": {
    "button": false,
    "collapsed": false,
    "deletable": true,
    "new_sheet": false,
    "run_control": {
     "read_only": false
    }
   },
   "outputs": [],
   "source": [
    "assert calculate_sum(\"1111\") == 4\n",
    "assert calculate_sum(\"1234\") == 0\n",
    "assert calculate_sum(\"1122\") == 3\n",
    "assert calculate_sum(\"91212129\") == 9\n",
    "assert calculate_sum(\"11\") == 2"
   ]
  },
  {
   "cell_type": "code",
   "execution_count": null,
   "metadata": {
    "button": false,
    "collapsed": false,
    "deletable": true,
    "new_sheet": false,
    "run_control": {
     "read_only": false
    }
   },
   "outputs": [],
   "source": [
    "calculate_sum(\"5994521226795838486188872189952551475352929145357284983463678944777228139398117649129843853837124228353689551178129353548331779783742915361343229141538334688254819714813664439268791978215553677772838853328835345484711229767477729948473391228776486456686265114875686536926498634495695692252159373971631543594656954494117149294648876661157534851938933954787612146436571183144494679952452325989212481219139686138139314915852774628718443532415524776642877131763359413822986619312862889689472397776968662148753187767793762654133429349515324333877787925465541588584988827136676376128887819161672467142579261995482731878979284573246533688835226352691122169847832943513758924194232345988726741789247379184319782387757613138742817826316376233443521857881678228694863681971445442663251423184177628977899963919997529468354953548612966699526718649132789922584524556697715133163376463256225181833257692821331665532681288216949451276844419154245423434141834913951854551253339785533395949815115622811565999252555234944554473912359674379862182425695187593452363724591541992766651311175217218144998691121856882973825162368564156726989939993412963536831593196997676992942673571336164535927371229823236937293782396318237879715612956317715187757397815346635454412183198642637577528632393813964514681344162814122588795865169788121655353319233798811796765852443424783552419541481132132344487835757888468196543736833342945718867855493422435511348343711311624399744482832385998592864795271972577548584967433917322296752992127719964453376414665576196829945664941856493768794911984537445227285657716317974649417586528395488789946689914972732288276665356179889783557481819454699354317555417691494844812852232551189751386484638428296871436139489616192954267794441256929783839652519285835238736142997245189363849356454645663151314124885661919451447628964996797247781196891787171648169427894282768776275689124191811751135567692313571663637214298625367655969575699851121381872872875774999172839521617845847358966264291175387374464425566514426499166813392768677233356646752273398541814142523651415521363267414564886379863699323887278761615927993953372779567675\")"
   ]
  },
  {
   "cell_type": "markdown",
   "metadata": {
    "button": false,
    "deletable": true,
    "new_sheet": false,
    "run_control": {
     "read_only": false
    }
   },
   "source": [
    "Day 1, Part 2"
   ]
  },
  {
   "cell_type": "code",
   "execution_count": 2,
   "metadata": {
    "button": false,
    "collapsed": true,
    "deletable": true,
    "new_sheet": false,
    "run_control": {
     "read_only": false
    }
   },
   "outputs": [],
   "source": [
    "def calculate_sum_midway(input):\n",
    "    compare_list  = create_int_list_from_string(input)\n",
    "    number_of_items = len(compare_list)\n",
    "    compare_position = int(number_of_items/2)\n",
    "    my_sum = 0\n",
    "    \n",
    "    for i in range(number_of_items):\n",
    "        if compare_list[0] == compare_list[compare_position]:\n",
    "            my_sum += compare_list[0]\n",
    "        compare_list = rotate(compare_list,1) \n",
    "    return my_sum"
   ]
  },
  {
   "cell_type": "code",
   "execution_count": 3,
   "metadata": {
    "button": false,
    "collapsed": false,
    "deletable": true,
    "new_sheet": false,
    "run_control": {
     "read_only": false
    }
   },
   "outputs": [
    {
     "ename": "NameError",
     "evalue": "name 'create_int_list_from_string' is not defined",
     "output_type": "error",
     "traceback": [
      "\u001b[0;31m---------------------------------------------------------------------------\u001b[0m",
      "\u001b[0;31mNameError\u001b[0m                                 Traceback (most recent call last)",
      "\u001b[0;32m<ipython-input-3-69a50d41cff9>\u001b[0m in \u001b[0;36m<module>\u001b[0;34m()\u001b[0m\n\u001b[0;32m----> 1\u001b[0;31m \u001b[0;32massert\u001b[0m \u001b[0mcalculate_sum_midway\u001b[0m\u001b[0;34m(\u001b[0m\u001b[0;34m\"1212\"\u001b[0m\u001b[0;34m)\u001b[0m \u001b[0;34m==\u001b[0m \u001b[0;36m6\u001b[0m\u001b[0;34m\u001b[0m\u001b[0m\n\u001b[0m\u001b[1;32m      2\u001b[0m \u001b[0;32massert\u001b[0m \u001b[0mcalculate_sum_midway\u001b[0m\u001b[0;34m(\u001b[0m\u001b[0;34m\"1221\"\u001b[0m\u001b[0;34m)\u001b[0m \u001b[0;34m==\u001b[0m \u001b[0;36m0\u001b[0m\u001b[0;34m\u001b[0m\u001b[0m\n\u001b[1;32m      3\u001b[0m \u001b[0;32massert\u001b[0m \u001b[0mcalculate_sum_midway\u001b[0m\u001b[0;34m(\u001b[0m\u001b[0;34m\"123425\"\u001b[0m\u001b[0;34m)\u001b[0m \u001b[0;34m==\u001b[0m \u001b[0;36m4\u001b[0m\u001b[0;34m\u001b[0m\u001b[0m\n\u001b[1;32m      4\u001b[0m \u001b[0;32massert\u001b[0m \u001b[0mcalculate_sum_midway\u001b[0m\u001b[0;34m(\u001b[0m\u001b[0;34m\"123123\"\u001b[0m\u001b[0;34m)\u001b[0m \u001b[0;34m==\u001b[0m \u001b[0;36m12\u001b[0m\u001b[0;34m\u001b[0m\u001b[0m\n\u001b[1;32m      5\u001b[0m \u001b[0;32massert\u001b[0m \u001b[0mcalculate_sum_midway\u001b[0m\u001b[0;34m(\u001b[0m\u001b[0;34m\"12131415\"\u001b[0m\u001b[0;34m)\u001b[0m \u001b[0;34m==\u001b[0m \u001b[0;36m4\u001b[0m\u001b[0;34m\u001b[0m\u001b[0m\n",
      "\u001b[0;32m<ipython-input-2-946c3bf7143b>\u001b[0m in \u001b[0;36mcalculate_sum_midway\u001b[0;34m(input)\u001b[0m\n\u001b[1;32m      1\u001b[0m \u001b[0;32mdef\u001b[0m \u001b[0mcalculate_sum_midway\u001b[0m\u001b[0;34m(\u001b[0m\u001b[0minput\u001b[0m\u001b[0;34m)\u001b[0m\u001b[0;34m:\u001b[0m\u001b[0;34m\u001b[0m\u001b[0m\n\u001b[0;32m----> 2\u001b[0;31m     \u001b[0mcompare_list\u001b[0m  \u001b[0;34m=\u001b[0m \u001b[0mcreate_int_list_from_string\u001b[0m\u001b[0;34m(\u001b[0m\u001b[0minput\u001b[0m\u001b[0;34m)\u001b[0m\u001b[0;34m\u001b[0m\u001b[0m\n\u001b[0m\u001b[1;32m      3\u001b[0m     \u001b[0mnumber_of_items\u001b[0m \u001b[0;34m=\u001b[0m \u001b[0mlen\u001b[0m\u001b[0;34m(\u001b[0m\u001b[0mcompare_list\u001b[0m\u001b[0;34m)\u001b[0m\u001b[0;34m\u001b[0m\u001b[0m\n\u001b[1;32m      4\u001b[0m     \u001b[0mcompare_position\u001b[0m \u001b[0;34m=\u001b[0m \u001b[0mint\u001b[0m\u001b[0;34m(\u001b[0m\u001b[0mnumber_of_items\u001b[0m\u001b[0;34m/\u001b[0m\u001b[0;36m2\u001b[0m\u001b[0;34m)\u001b[0m\u001b[0;34m\u001b[0m\u001b[0m\n\u001b[1;32m      5\u001b[0m     \u001b[0mmy_sum\u001b[0m \u001b[0;34m=\u001b[0m \u001b[0;36m0\u001b[0m\u001b[0;34m\u001b[0m\u001b[0m\n",
      "\u001b[0;31mNameError\u001b[0m: name 'create_int_list_from_string' is not defined"
     ]
    }
   ],
   "source": [
    "assert calculate_sum_midway(\"1212\") == 6\n",
    "assert calculate_sum_midway(\"1221\") == 0\n",
    "assert calculate_sum_midway(\"123425\") == 4\n",
    "assert calculate_sum_midway(\"123123\") == 12\n",
    "assert calculate_sum_midway(\"12131415\") == 4"
   ]
  },
  {
   "cell_type": "code",
   "execution_count": null,
   "metadata": {
    "button": false,
    "collapsed": false,
    "deletable": true,
    "new_sheet": false,
    "run_control": {
     "read_only": false
    }
   },
   "outputs": [],
   "source": [
    "calculate_sum_midway(\"5994521226795838486188872189952551475352929145357284983463678944777228139398117649129843853837124228353689551178129353548331779783742915361343229141538334688254819714813664439268791978215553677772838853328835345484711229767477729948473391228776486456686265114875686536926498634495695692252159373971631543594656954494117149294648876661157534851938933954787612146436571183144494679952452325989212481219139686138139314915852774628718443532415524776642877131763359413822986619312862889689472397776968662148753187767793762654133429349515324333877787925465541588584988827136676376128887819161672467142579261995482731878979284573246533688835226352691122169847832943513758924194232345988726741789247379184319782387757613138742817826316376233443521857881678228694863681971445442663251423184177628977899963919997529468354953548612966699526718649132789922584524556697715133163376463256225181833257692821331665532681288216949451276844419154245423434141834913951854551253339785533395949815115622811565999252555234944554473912359674379862182425695187593452363724591541992766651311175217218144998691121856882973825162368564156726989939993412963536831593196997676992942673571336164535927371229823236937293782396318237879715612956317715187757397815346635454412183198642637577528632393813964514681344162814122588795865169788121655353319233798811796765852443424783552419541481132132344487835757888468196543736833342945718867855493422435511348343711311624399744482832385998592864795271972577548584967433917322296752992127719964453376414665576196829945664941856493768794911984537445227285657716317974649417586528395488789946689914972732288276665356179889783557481819454699354317555417691494844812852232551189751386484638428296871436139489616192954267794441256929783839652519285835238736142997245189363849356454645663151314124885661919451447628964996797247781196891787171648169427894282768776275689124191811751135567692313571663637214298625367655969575699851121381872872875774999172839521617845847358966264291175387374464425566514426499166813392768677233356646752273398541814142523651415521363267414564886379863699323887278761615927993953372779567675\")"
   ]
  },
  {
   "cell_type": "code",
   "execution_count": null,
   "metadata": {
    "button": false,
    "collapsed": false,
    "deletable": true,
    "new_sheet": false,
    "run_control": {
     "read_only": false
    }
   },
   "outputs": [],
   "source": [
    "numbers = [0,3,0,1,-3]\n",
    "def jumper(numbers):\n",
    "    trapped = True\n",
    "    counter = 0\n",
    "    pos = 0\n",
    "    while trapped:\n",
    "        instruction = numbers[pos]\n",
    "        numbers[pos] += 1\n",
    "        pos += instruction\n",
    "        counter += 1\n",
    "        if pos >= len(numbers):\n",
    "            trapped = False\n",
    "        print(pos, instruction, numbers)\n",
    "    return counter\n",
    "jumper(numbers)"
   ]
  },
  {
   "cell_type": "code",
   "execution_count": null,
   "metadata": {
    "button": false,
    "collapsed": false,
    "deletable": true,
    "new_sheet": false,
    "run_control": {
     "read_only": false
    }
   },
   "outputs": [],
   "source": [
    "numbers = [0,3,0,1,-3]\n",
    "def jumper2(numbers):\n",
    "    trapped = True\n",
    "    counter = 0\n",
    "    pos = 0\n",
    "    while trapped:\n",
    "        instruction = numbers[pos]\n",
    "        numbers[pos] += (-1 if instruction >= 3 else 1)\n",
    "        pos += instruction\n",
    "        counter += 1\n",
    "        if pos >= len(numbers):\n",
    "            trapped = False\n",
    "        print(pos, instruction, numbers)\n",
    "    return counter\n",
    "jumper2(numbers)"
   ]
  },
  {
   "cell_type": "code",
   "execution_count": null,
   "metadata": {
    "button": false,
    "collapsed": false,
    "deletable": true,
    "new_sheet": false,
    "run_control": {
     "read_only": false
    }
   },
   "outputs": [],
   "source": [
    "numbers = [0,3,0,1,-3]\n",
    "def jumper2(numbers):\n",
    "    counter = 0\n",
    "    pos = 0\n",
    "    while True:\n",
    "        instruction = numbers[pos]\n",
    "        numbers[pos] += (-1 if instruction >= 3 else 1)\n",
    "        pos += instruction\n",
    "        counter += 1\n",
    "        if pos >= len(numbers):\n",
    "            return counter\n",
    "        print(pos, instruction, numbers)\n",
    "jumper2(numbers)"
   ]
  },
  {
   "cell_type": "code",
   "execution_count": null,
   "metadata": {
    "button": false,
    "collapsed": false,
    "deletable": true,
    "new_sheet": false,
    "run_control": {
     "read_only": false
    }
   },
   "outputs": [],
   "source": [
    "class Point(tuple):\n",
    "    def __new__(cls, x, y):\n",
    "        return tuple.__new__(cls, (x, y))\n",
    "\n",
    "    def __add__(self, other):\n",
    "        return Point(self[0] + other[0], self[1] + other[1])\n",
    "\n",
    "    def __repr__(self):\n",
    "        return 'P({0}, {1})'.format(self[0], self[1])\n",
    "\n",
    "p = Point(1, 1)\n",
    "print(p + Point(5, 5))\n",
    "print(p + (5, 5))"
   ]
  },
  {
   "cell_type": "code",
   "execution_count": null,
   "metadata": {
    "button": false,
    "collapsed": false,
    "deletable": true,
    "new_sheet": false,
    "run_control": {
     "read_only": false
    }
   },
   "outputs": [],
   "source": [
    "p = Point(0,0) + Point(0,1) +Point(6,6) + (9,9)"
   ]
  },
  {
   "cell_type": "code",
   "execution_count": null,
   "metadata": {
    "button": false,
    "collapsed": false,
    "deletable": true,
    "new_sheet": false,
    "run_control": {
     "read_only": false
    }
   },
   "outputs": [],
   "source": [
    "print(p)"
   ]
  },
  {
   "cell_type": "code",
   "execution_count": null,
   "metadata": {
    "button": false,
    "collapsed": false,
    "deletable": true,
    "new_sheet": false,
    "run_control": {
     "read_only": false
    }
   },
   "outputs": [],
   "source": [
    "memory_banks = [0,5,10,0,11,14,13,4,11,8,8,7,1,4,12,11]\n",
    "from itertools import count\n",
    "\n",
    "def reallocate(memory_banks):\n",
    "    \"Keeps track of how many cycles take place before we see a previously used configuration\"\n",
    "    prior_config = {memory_banks}\n",
    "    for cycles in count(1):\n",
    "        memory_banks = distribute(memory_banks)\n",
    "        if memory_banks in prior_config:\n",
    "            print(memory_banks, cycles)\n",
    "            return cycles\n",
    "        prior_config.add(memory_banks)\n",
    "        \n",
    "def distribute(memory):\n",
    "    \"Reallocate the blocks consistent with problem distribution\"\n",
    "    memory = list(memory)\n",
    "    index_max = max(range(len(memory)), key=lambda i: memory[i])\n",
    "    blocks_max = memory[index_max]\n",
    "    memory[index_max] = 0\n",
    "    next_pos = index_max + 1\n",
    "    for i in range(next_pos, next_pos + blocks_max):\n",
    "        memory[i % len(memory)] += 1\n",
    "    return tuple(memory)"
   ]
  },
  {
   "cell_type": "code",
   "execution_count": null,
   "metadata": {
    "button": false,
    "collapsed": false,
    "deletable": true,
    "new_sheet": false,
    "run_control": {
     "read_only": false
    }
   },
   "outputs": [],
   "source": [
    "assert distribute((0, 2, 7, 0)) == (2,4,1,2)"
   ]
  },
  {
   "cell_type": "code",
   "execution_count": null,
   "metadata": {
    "button": false,
    "collapsed": false,
    "deletable": true,
    "new_sheet": false,
    "run_control": {
     "read_only": false
    }
   },
   "outputs": [],
   "source": [
    "memory_banks = (0,5,10,0,11,14,13,4,11,8,8,7,1,4,12,11)\n",
    "reallocate(memory_banks)"
   ]
  },
  {
   "cell_type": "code",
   "execution_count": null,
   "metadata": {
    "button": false,
    "collapsed": false,
    "deletable": true,
    "new_sheet": false,
    "run_control": {
     "read_only": false
    }
   },
   "outputs": [],
   "source": [
    "memory_banks = (0,5,10,0,11,14,13,4,11,8,8,7,1,4,12,11)\n",
    "def reallocate_with_cycle_count(memory_banks):\n",
    "    \"Keeps track of how many cycles take place before we see a previously used configuration\"\n",
    "    prior_config = {memory_banks:0}\n",
    "    for cycles in count(1):\n",
    "        memory_banks = distribute(memory_banks)\n",
    "        if memory_banks in prior_config:\n",
    "            return cycles - prior_config[memory_banks]\n",
    "        prior_config[memory_banks] = cycles # keep track of the cycles"
   ]
  },
  {
   "cell_type": "code",
   "execution_count": null,
   "metadata": {
    "button": false,
    "collapsed": false,
    "deletable": true,
    "new_sheet": false,
    "run_control": {
     "read_only": false
    }
   },
   "outputs": [],
   "source": [
    "reallocate_with_cycle_count(memory_banks)"
   ]
  },
  {
   "cell_type": "markdown",
   "metadata": {
    "button": false,
    "collapsed": true,
    "deletable": true,
    "new_sheet": false,
    "run_control": {
     "read_only": false
    }
   },
   "source": [
    "Day2"
   ]
  },
  {
   "cell_type": "code",
   "execution_count": 153,
   "metadata": {
    "button": false,
    "collapsed": false,
    "deletable": true,
    "new_sheet": false,
    "run_control": {
     "read_only": false
    }
   },
   "outputs": [],
   "source": [
    "import csv\n",
    "with open(\"M:\\d7_test.xml\") as f:\n",
    "    reader = csv.reader(f, delimiter=\">\")\n",
    "    d = list(reader)"
   ]
  },
  {
   "cell_type": "code",
   "execution_count": 1,
   "metadata": {
    "button": false,
    "collapsed": false,
    "deletable": true,
    "new_sheet": false,
    "run_control": {
     "read_only": false
    }
   },
   "outputs": [
    {
     "ename": "NameError",
     "evalue": "name 'd' is not defined",
     "output_type": "error",
     "traceback": [
      "\u001b[0;31m---------------------------------------------------------------------------\u001b[0m",
      "\u001b[0;31mNameError\u001b[0m                                 Traceback (most recent call last)",
      "\u001b[0;32m<ipython-input-1-3b7dd3f4f2a3>\u001b[0m in \u001b[0;36m<module>\u001b[0;34m()\u001b[0m\n\u001b[1;32m      1\u001b[0m \u001b[0mgraph\u001b[0m \u001b[0;34m=\u001b[0m \u001b[0;34m{\u001b[0m\u001b[0;34m}\u001b[0m\u001b[0;34m\u001b[0m\u001b[0m\n\u001b[0;32m----> 2\u001b[0;31m \u001b[0;32mfor\u001b[0m \u001b[0mrow\u001b[0m \u001b[0;32min\u001b[0m \u001b[0md\u001b[0m\u001b[0;34m:\u001b[0m\u001b[0;34m\u001b[0m\u001b[0m\n\u001b[0m\u001b[1;32m      3\u001b[0m     \u001b[0mnode\u001b[0m \u001b[0;34m=\u001b[0m \u001b[0mrow\u001b[0m\u001b[0;34m[\u001b[0m\u001b[0;36m0\u001b[0m\u001b[0;34m]\u001b[0m\u001b[0;34m[\u001b[0m\u001b[0;36m0\u001b[0m\u001b[0;34m:\u001b[0m\u001b[0;36m4\u001b[0m\u001b[0;34m]\u001b[0m\u001b[0;34m\u001b[0m\u001b[0m\n\u001b[1;32m      4\u001b[0m     \u001b[0mgraph\u001b[0m\u001b[0;34m[\u001b[0m\u001b[0mnode\u001b[0m\u001b[0;34m]\u001b[0m \u001b[0;34m=\u001b[0m \u001b[0;34m[\u001b[0m\u001b[0;34m]\u001b[0m\u001b[0;34m\u001b[0m\u001b[0m\n\u001b[1;32m      5\u001b[0m     \u001b[0;32mif\u001b[0m \u001b[0mlen\u001b[0m\u001b[0;34m(\u001b[0m\u001b[0mrow\u001b[0m\u001b[0;34m)\u001b[0m \u001b[0;34m>\u001b[0m\u001b[0;36m1\u001b[0m\u001b[0;34m:\u001b[0m\u001b[0;34m\u001b[0m\u001b[0m\n",
      "\u001b[0;31mNameError\u001b[0m: name 'd' is not defined"
     ]
    }
   ],
   "source": [
    "graph = {}\n",
    "for row in d:\n",
    "    node = row[0][0:4]\n",
    "    graph[node] = []\n",
    "    if len(row) >1:\n",
    "        items = [i.strip() for i in row[1].split(\",\")]\n",
    "        graph[node].extend(items)\n",
    "\n",
    "for i in graph:\n",
    "    print(i,\"-->\",graph[i])        "
   ]
  },
  {
   "cell_type": "code",
   "execution_count": 155,
   "metadata": {
    "button": false,
    "collapsed": false,
    "deletable": true,
    "new_sheet": false,
    "run_control": {
     "read_only": false
    }
   },
   "outputs": [],
   "source": [
    "import re\n",
    "main=\"m:\\D7.txt\"\n",
    "test=\"M:\\d7_test.xml\"\n",
    "with open(test) as open_file:\n",
    "    data = open_file.read().splitlines()"
   ]
  },
  {
   "cell_type": "code",
   "execution_count": 156,
   "metadata": {
    "button": false,
    "collapsed": false,
    "deletable": true,
    "new_sheet": false,
    "run_control": {
     "read_only": false
    }
   },
   "outputs": [
    {
     "name": "stdout",
     "output_type": "stream",
     "text": [
      "{'tknk'}\n"
     ]
    }
   ],
   "source": [
    "all_nodes = []\n",
    "all_supported = []\n",
    "for line in data:\n",
    "    all_nodes.append(re.match(r'[\\w]+', line).group(0))\n",
    "    if re.search(r'->', line):\n",
    "            nodes = re.search(r'-> (?P<nodes>[\\w, ]+)', line).group('nodes').replace(' ', '').split(',')\n",
    "            for node in nodes:\n",
    "                all_supported.append(node)\n",
    "print(set(all_nodes) - set(all_supported))"
   ]
  },
  {
   "cell_type": "code",
   "execution_count": 157,
   "metadata": {
    "button": false,
    "collapsed": false,
    "deletable": true,
    "new_sheet": false,
    "run_control": {
     "read_only": false
    }
   },
   "outputs": [
    {
     "data": {
      "text/plain": [
       "'tknk'"
      ]
     },
     "execution_count": 157,
     "metadata": {},
     "output_type": "execute_result"
    }
   ],
   "source": [
    "import networkx as nx\n",
    "\n",
    "G = nx.DiGraph()\n",
    "\n",
    "for row in d:\n",
    "    node = row[0][0:4]\n",
    "    graph[node] = []\n",
    "    if len(row) >1:\n",
    "        items = [i.strip() for i in row[1].split(\",\")]\n",
    "        for path in items:\n",
    "            G.add_edge(node, path)\n",
    "\n",
    "nodes = nx.topological_sort(G)\n",
    "nodes[0]"
   ]
  },
  {
   "cell_type": "code",
   "execution_count": 158,
   "metadata": {
    "button": false,
    "collapsed": false,
    "deletable": true,
    "new_sheet": false,
    "run_control": {
     "read_only": false
    }
   },
   "outputs": [],
   "source": [
    "import re\n",
    "main=\"m:\\D7.txt\"\n",
    "test=\"M:\\d7_test.xml\"\n",
    "with open(main) as open_file:\n",
    "    data = open_file.read().splitlines()"
   ]
  },
  {
   "cell_type": "code",
   "execution_count": 159,
   "metadata": {
    "button": false,
    "collapsed": false,
    "deletable": true,
    "new_sheet": false,
    "run_control": {
     "read_only": false
    }
   },
   "outputs": [
    {
     "name": "stdout",
     "output_type": "stream",
     "text": [
      "PART 1: uownj\n",
      "PART 2: 596\n"
     ]
    }
   ],
   "source": [
    "import networkx as nx\n",
    "\n",
    "graph = nx.DiGraph()\n",
    "\n",
    "for line in data:\n",
    "    name = line.split()[0]\n",
    "    weight = int(line.split()[1].strip('()'))\n",
    "    graph.add_node(name, weight=weight)\n",
    "    if '->' in line:\n",
    "        children = [n.strip() for n in line.split('->')[1].split(',')]\n",
    "\n",
    "        for child in children:\n",
    "            graph.add_edge(name, child)\n",
    "\n",
    "ordered = list(nx.topological_sort(graph))\n",
    "\n",
    "print('PART 1:', ordered[0])\n",
    "\n",
    "# Keep track of each node's total weight (itself + its children)\n",
    "weights = {}\n",
    "\n",
    "# Going backwards (starting from the leaves)\n",
    "for node in reversed(ordered):\n",
    "    total = graph.node[node]['weight']\n",
    "\n",
    "    val = None\n",
    "    unbalanced = None\n",
    "\n",
    "    for child in graph[node]:\n",
    "        # If this child's weight is different than others, we've found it\n",
    "        if val is not None and weights[child] != val:\n",
    "            unbalanced = child\n",
    "            break\n",
    "\n",
    "        # Otherwise add to the total weight\n",
    "        val = weights[child]\n",
    "        total += weights[child]\n",
    "\n",
    "    if unbalanced:\n",
    "        # Find the weight adjustment and the new weight of this node\n",
    "        diff = abs(val - weights[unbalanced])\n",
    "        print('PART 2:', graph.node[unbalanced]['weight'] - diff)\n",
    "        break\n",
    "\n",
    "    # Store the total weight of the node\n",
    "    weights[node] = total"
   ]
  },
  {
   "cell_type": "code",
   "execution_count": null,
   "metadata": {
    "button": false,
    "collapsed": true,
    "deletable": true,
    "new_sheet": false,
    "run_control": {
     "read_only": false
    }
   },
   "outputs": [],
   "source": []
  },
  {
   "cell_type": "code",
   "execution_count": null,
   "metadata": {
    "button": false,
    "collapsed": true,
    "deletable": true,
    "new_sheet": false,
    "run_control": {
     "read_only": false
    }
   },
   "outputs": [],
   "source": []
  }
 ],
 "metadata": {
  "kernelspec": {
   "display_name": "Python 3",
   "language": "python",
   "name": "python3"
  },
  "language_info": {
   "codemirror_mode": {
    "name": "ipython",
    "version": 3
   },
   "file_extension": ".py",
   "mimetype": "text/x-python",
   "name": "python",
   "nbconvert_exporter": "python",
   "pygments_lexer": "ipython3",
   "version": "3.5.0"
  }
 },
 "nbformat": 4,
 "nbformat_minor": 2
}
