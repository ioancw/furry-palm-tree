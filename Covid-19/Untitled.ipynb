{
 "cells": [
  {
   "cell_type": "code",
   "execution_count": 1,
   "metadata": {},
   "outputs": [
    {
     "data": {
      "text/html": [
       "<script type=\"text/javascript\">#!javascript\r\n",
       "if ((typeof(requirejs) !==  typeof(Function)) || (typeof(requirejs.config) !== typeof(Function))) { \r\n",
       "    let script = document.createElement(\"script\"); \r\n",
       "    script.setAttribute(\"src\", \"https://cdnjs.cloudflare.com/ajax/libs/require.js/2.3.6/require.min.js\"); \r\n",
       "    script.onload = function(){\r\n",
       "        loadDotnetInteractiveApi();\r\n",
       "    };\r\n",
       "    document.getElementsByTagName(\"head\")[0].appendChild(script); \r\n",
       "}\r\n",
       "else {\r\n",
       "    loadDotnetInteractiveApi();\r\n",
       "}\r\n",
       "\r\n",
       "function loadDotnetInteractiveApi(){\r\n",
       "    let apiRequire = requirejs.config({context:\"dotnet-interactive.36037.61202\",paths:{dotnetInteractive:\"http://localhost:61202/resources/dotnet-interactive\"}});\r\n",
       "    apiRequire(['dotnetInteractive'], \r\n",
       "    function(api) {       \r\n",
       "        api.createDotnetInteractiveClient(\"http://localhost:61202/\", window);\r\n",
       "    },\r\n",
       "    function(error){\r\n",
       "        console.log(error);\r\n",
       "    });\r\n",
       "}</script>"
      ]
     },
     "metadata": {},
     "output_type": "display_data"
    },
    {
     "data": {
      "text/html": [
       "Binary Logging enabled"
      ]
     },
     "metadata": {},
     "output_type": "display_data"
    },
    {
     "data": {
      "text/html": [
       "Installed package Microsoft.ML version 1.4.0"
      ]
     },
     "metadata": {},
     "output_type": "display_data"
    },
    {
     "data": {
      "text/html": [
       "Installed package Microsoft.ML.AutoML version 0.16.0"
      ]
     },
     "metadata": {},
     "output_type": "display_data"
    },
    {
     "data": {
      "text/html": [
       "Installed package Microsoft.Data.Analysis version 0.1.0"
      ]
     },
     "metadata": {},
     "output_type": "display_data"
    }
   ],
   "source": [
    "#r \"nuget:bl=true\"\n",
    "#r \"nuget:Microsoft.ML,version=1.4.0\"\n",
    "#r \"nuget:Microsoft.ML.AutoML,version=0.16.0\"\n",
    "#r \"nuget:Microsoft.Data.Analysis,version=0.1.0\"\n",
    "    \n",
    "open Microsoft.Data.Analysis\n",
    "open XPlot.Plotly\n",
    "open Microsoft.AspNetCore.Html\n",
    "open System.IO"
   ]
  },
  {
   "cell_type": "code",
   "execution_count": 2,
   "metadata": {},
   "outputs": [
    {
     "data": {
      "text/html": [
       "<null>"
      ]
     },
     "execution_count": 2,
     "metadata": {},
     "output_type": "execute_result"
    }
   ],
   "source": [
    "let register (df:DataFrame) (writer:TextWriter) =\n",
    "    let headers = new ResizeArray<IHtmlContent> ()\n",
    "    headers.Add(th.innerHTML(i.innerHTML(\"index\")))\n",
    "    headers.AddRange(df.Columns.Select(fun c -> (th.innerHTML(c.Name) :> IHtmlContent)))\n",
    "    let rows = ResizeArray<ResizeArray<IHtmlContent>>()\n",
    "    let take = 20\n",
    "    for i in 0 .. (Math.Min(take, int(df.RowCount)) - 1) do\n",
    "        let cells = ResizeArray<IHtmlContent>()\n",
    "        cells.Add(td.innerHTML(i));\n",
    "        for o in df.[int64(i)] do\n",
    "            cells.Add(td.innerHTML(o))\n",
    "        rows.Add(cells)\n",
    "    \n",
    "    let t =\n",
    "        table.innerHTML([|\n",
    "            thead.innerHTML(headers)\n",
    "            tbody.innerHTML(rows.Select(fun r -> tr.innerHTML(r)))\n",
    "        |])\n",
    "\n",
    "    writer.Write(t)\n",
    "\n",
    "Formatter<DataFrame>.Register( (fun df writer -> register df writer), mimeType = \"text/html\")"
   ]
  },
  {
   "cell_type": "code",
   "execution_count": 3,
   "metadata": {},
   "outputs": [],
   "source": [
    "let daily = DataFrame.LoadCsv(\"DailyConfirmedCases-11Mar2020.csv\")"
   ]
  },
  {
   "cell_type": "code",
   "execution_count": 4,
   "metadata": {},
   "outputs": [
    {
     "data": {
      "text/html": [
       "<table><thead><th><i>index</i></th><th>DateVal</th><th>CMODateCount</th><th>CumCases</th></thead><tbody><tr><td>0</td><td>31/01/2020</td><td>2</td><td>2</td></tr><tr><td>1</td><td>01/02/2020</td><td>0</td><td>2</td></tr><tr><td>2</td><td>02/02/2020</td><td>0</td><td>2</td></tr><tr><td>3</td><td>03/02/2020</td><td>0</td><td>2</td></tr><tr><td>4</td><td>04/02/2020</td><td>0</td><td>2</td></tr><tr><td>5</td><td>05/02/2020</td><td>0</td><td>2</td></tr><tr><td>6</td><td>06/02/2020</td><td>1</td><td>3</td></tr><tr><td>7</td><td>07/02/2020</td><td>0</td><td>3</td></tr><tr><td>8</td><td>08/02/2020</td><td>0</td><td>3</td></tr><tr><td>9</td><td>09/02/2020</td><td>1</td><td>4</td></tr><tr><td>10</td><td>10/02/2020</td><td>4</td><td>8</td></tr><tr><td>11</td><td>11/02/2020</td><td>0</td><td>8</td></tr><tr><td>12</td><td>12/02/2020</td><td>0</td><td>8</td></tr><tr><td>13</td><td>13/02/2020</td><td>1</td><td>9</td></tr><tr><td>14</td><td>14/02/2020</td><td>0</td><td>9</td></tr><tr><td>15</td><td>15/02/2020</td><td>0</td><td>9</td></tr><tr><td>16</td><td>16/02/2020</td><td>0</td><td>9</td></tr><tr><td>17</td><td>17/02/2020</td><td>0</td><td>9</td></tr><tr><td>18</td><td>18/02/2020</td><td>0</td><td>9</td></tr><tr><td>19</td><td>19/02/2020</td><td>0</td><td>9</td></tr></tbody></table>"
      ]
     },
     "execution_count": 4,
     "metadata": {},
     "output_type": "execute_result"
    }
   ],
   "source": [
    "daily"
   ]
  },
  {
   "cell_type": "code",
   "execution_count": 5,
   "metadata": {},
   "outputs": [
    {
     "data": {
      "text/html": [
       "<table><thead><th><i>index</i></th><th>Description</th><th>CMODateCount</th><th>CumCases</th></thead><tbody><tr><td>0</td><td>Length</td><td>40</td><td>40</td></tr><tr><td>1</td><td>Max</td><td>65</td><td>373</td></tr><tr><td>2</td><td>Min</td><td>0</td><td>2</td></tr><tr><td>3</td><td>Mean</td><td>9.325</td><td>47.45</td></tr></tbody></table>"
      ]
     },
     "execution_count": 5,
     "metadata": {},
     "output_type": "execute_result"
    }
   ],
   "source": [
    "daily.Description()"
   ]
  },
  {
   "cell_type": "code",
   "execution_count": null,
   "metadata": {},
   "outputs": [],
   "source": []
  }
 ],
 "metadata": {
  "kernelspec": {
   "display_name": ".NET (F#)",
   "language": "F#",
   "name": ".net-fsharp"
  },
  "language_info": {
   "file_extension": ".fs",
   "mimetype": "text/x-fsharp",
   "name": "C#",
   "pygments_lexer": "fsharp",
   "version": "4.5"
  }
 },
 "nbformat": 4,
 "nbformat_minor": 4
}
